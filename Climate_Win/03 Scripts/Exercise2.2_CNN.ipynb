{
 "cells": [
  {
   "cell_type": "markdown",
   "id": "e65e8d51",
   "metadata": {},
   "source": [
    "## Content list"
   ]
  },
  {
   "cell_type": "markdown",
   "id": "b86ca9f6",
   "metadata": {},
   "source": [
    "#### 1. Import libraries\n",
    "#### 2. Import data\n",
    "#### 3. Data cleaning\n",
    "#### 4. Export data"
   ]
  },
  {
   "cell_type": "markdown",
   "id": "c3605bf2",
   "metadata": {},
   "source": [
    "## 1. Import libraries"
   ]
  },
  {
   "cell_type": "code",
   "execution_count": 1,
   "id": "5a1883d8",
   "metadata": {
    "scrolled": true
   },
   "outputs": [],
   "source": [
    "# Import libraries\n",
    "import pandas as pd\n",
    "import numpy as np\n",
    "import seaborn as sns\n",
    "import os\n",
    "import operator\n",
    "import matplotlib.pyplot as plt\n",
    "from sklearn.model_selection import train_test_split\n",
    "from sklearn.preprocessing import LabelEncoder\n",
    "import tensorflow as tf\n",
    "from numpy import reshape\n",
    "from keras.models import Sequential\n",
    "from keras.layers import Conv1D, Conv2D, Dense, BatchNormalization, Flatten, MaxPooling1D, Dense, Dropout\n",
    "from tensorflow.keras.utils import to_categorical\n",
    "from keras.models import Sequential\n",
    "from keras.layers import LSTM"
   ]
  },
  {
   "cell_type": "markdown",
   "id": "ccafaec0",
   "metadata": {},
   "source": [
    "## 2. Import data"
   ]
  },
  {
   "cell_type": "code",
   "execution_count": 2,
   "id": "0e87f343",
   "metadata": {
    "scrolled": true
   },
   "outputs": [],
   "source": [
    "# Turn project folder path into a string\n",
    "path = r'C:\\Users\\Admin\\Desktop\\Data Analysis\\Maching Learning\\Climate_Win'"
   ]
  },
  {
   "cell_type": "code",
   "execution_count": 3,
   "id": "35414502",
   "metadata": {
    "scrolled": true
   },
   "outputs": [
    {
     "data": {
      "text/plain": [
       "'C:\\\\Users\\\\Admin\\\\Desktop\\\\Data Analysis\\\\Maching Learning\\\\Climate_Win'"
      ]
     },
     "execution_count": 3,
     "metadata": {},
     "output_type": "execute_result"
    }
   ],
   "source": [
    "path"
   ]
  },
  {
   "cell_type": "code",
   "execution_count": 4,
   "id": "f29f435b",
   "metadata": {
    "scrolled": true
   },
   "outputs": [],
   "source": [
    "# Import cleaned weather data\n",
    "df_cw = pd.read_csv(os.path.join(path, '02 Data', 'Prepared Data', 'climatewin_cleaned.csv'))"
   ]
  },
  {
   "cell_type": "code",
   "execution_count": 5,
   "id": "dacb060c",
   "metadata": {
    "scrolled": true
   },
   "outputs": [
    {
     "data": {
      "text/html": [
       "<div>\n",
       "<style scoped>\n",
       "    .dataframe tbody tr th:only-of-type {\n",
       "        vertical-align: middle;\n",
       "    }\n",
       "\n",
       "    .dataframe tbody tr th {\n",
       "        vertical-align: top;\n",
       "    }\n",
       "\n",
       "    .dataframe thead th {\n",
       "        text-align: right;\n",
       "    }\n",
       "</style>\n",
       "<table border=\"1\" class=\"dataframe\">\n",
       "  <thead>\n",
       "    <tr style=\"text-align: right;\">\n",
       "      <th></th>\n",
       "      <th>BASEL_cloud_cover</th>\n",
       "      <th>BASEL_global_radiation</th>\n",
       "      <th>BASEL_humidity</th>\n",
       "      <th>BASEL_precipitation</th>\n",
       "      <th>BASEL_pressure</th>\n",
       "      <th>BASEL_sunshine</th>\n",
       "      <th>BASEL_temp_max</th>\n",
       "      <th>BASEL_temp_mean</th>\n",
       "      <th>BASEL_temp_min</th>\n",
       "      <th>BELGRADE_cloud_cover</th>\n",
       "      <th>...</th>\n",
       "      <th>STOCKHOLM_temp_min</th>\n",
       "      <th>VALENTIA_cloud_cover</th>\n",
       "      <th>VALENTIA_global_radiation</th>\n",
       "      <th>VALENTIA_humidity</th>\n",
       "      <th>VALENTIA_precipitation</th>\n",
       "      <th>VALENTIA_pressure</th>\n",
       "      <th>VALENTIA_sunshine</th>\n",
       "      <th>VALENTIA_temp_max</th>\n",
       "      <th>VALENTIA_temp_mean</th>\n",
       "      <th>VALENTIA_temp_min</th>\n",
       "    </tr>\n",
       "  </thead>\n",
       "  <tbody>\n",
       "    <tr>\n",
       "      <th>0</th>\n",
       "      <td>7</td>\n",
       "      <td>0.32</td>\n",
       "      <td>0.85</td>\n",
       "      <td>0.09</td>\n",
       "      <td>1.018</td>\n",
       "      <td>0.7</td>\n",
       "      <td>10.9</td>\n",
       "      <td>6.5</td>\n",
       "      <td>0.8</td>\n",
       "      <td>1</td>\n",
       "      <td>...</td>\n",
       "      <td>2.2</td>\n",
       "      <td>5</td>\n",
       "      <td>0.45</td>\n",
       "      <td>0.88</td>\n",
       "      <td>0.34</td>\n",
       "      <td>1.0003</td>\n",
       "      <td>4.7</td>\n",
       "      <td>10.9</td>\n",
       "      <td>8.5</td>\n",
       "      <td>6.0</td>\n",
       "    </tr>\n",
       "    <tr>\n",
       "      <th>1</th>\n",
       "      <td>6</td>\n",
       "      <td>0.36</td>\n",
       "      <td>0.84</td>\n",
       "      <td>1.05</td>\n",
       "      <td>1.018</td>\n",
       "      <td>1.1</td>\n",
       "      <td>10.1</td>\n",
       "      <td>6.1</td>\n",
       "      <td>3.3</td>\n",
       "      <td>6</td>\n",
       "      <td>...</td>\n",
       "      <td>3.0</td>\n",
       "      <td>7</td>\n",
       "      <td>0.25</td>\n",
       "      <td>0.91</td>\n",
       "      <td>0.84</td>\n",
       "      <td>1.0007</td>\n",
       "      <td>0.7</td>\n",
       "      <td>12.1</td>\n",
       "      <td>8.9</td>\n",
       "      <td>5.6</td>\n",
       "    </tr>\n",
       "    <tr>\n",
       "      <th>2</th>\n",
       "      <td>8</td>\n",
       "      <td>0.18</td>\n",
       "      <td>0.90</td>\n",
       "      <td>0.30</td>\n",
       "      <td>1.018</td>\n",
       "      <td>0.0</td>\n",
       "      <td>9.9</td>\n",
       "      <td>8.5</td>\n",
       "      <td>5.1</td>\n",
       "      <td>6</td>\n",
       "      <td>...</td>\n",
       "      <td>1.3</td>\n",
       "      <td>7</td>\n",
       "      <td>0.17</td>\n",
       "      <td>0.91</td>\n",
       "      <td>0.08</td>\n",
       "      <td>1.0096</td>\n",
       "      <td>0.1</td>\n",
       "      <td>12.9</td>\n",
       "      <td>10.5</td>\n",
       "      <td>8.1</td>\n",
       "    </tr>\n",
       "    <tr>\n",
       "      <th>3</th>\n",
       "      <td>3</td>\n",
       "      <td>0.58</td>\n",
       "      <td>0.92</td>\n",
       "      <td>0.00</td>\n",
       "      <td>1.018</td>\n",
       "      <td>4.1</td>\n",
       "      <td>10.6</td>\n",
       "      <td>6.3</td>\n",
       "      <td>3.8</td>\n",
       "      <td>8</td>\n",
       "      <td>...</td>\n",
       "      <td>0.4</td>\n",
       "      <td>7</td>\n",
       "      <td>0.13</td>\n",
       "      <td>0.86</td>\n",
       "      <td>0.98</td>\n",
       "      <td>1.0184</td>\n",
       "      <td>0.0</td>\n",
       "      <td>10.6</td>\n",
       "      <td>7.4</td>\n",
       "      <td>7.3</td>\n",
       "    </tr>\n",
       "    <tr>\n",
       "      <th>4</th>\n",
       "      <td>6</td>\n",
       "      <td>0.65</td>\n",
       "      <td>0.95</td>\n",
       "      <td>0.14</td>\n",
       "      <td>1.018</td>\n",
       "      <td>5.4</td>\n",
       "      <td>6.0</td>\n",
       "      <td>3.0</td>\n",
       "      <td>-0.7</td>\n",
       "      <td>8</td>\n",
       "      <td>...</td>\n",
       "      <td>0.8</td>\n",
       "      <td>3</td>\n",
       "      <td>0.46</td>\n",
       "      <td>0.80</td>\n",
       "      <td>0.00</td>\n",
       "      <td>1.0328</td>\n",
       "      <td>5.7</td>\n",
       "      <td>8.4</td>\n",
       "      <td>5.7</td>\n",
       "      <td>3.0</td>\n",
       "    </tr>\n",
       "  </tbody>\n",
       "</table>\n",
       "<p>5 rows × 135 columns</p>\n",
       "</div>"
      ],
      "text/plain": [
       "   BASEL_cloud_cover  BASEL_global_radiation  BASEL_humidity  \\\n",
       "0                  7                    0.32            0.85   \n",
       "1                  6                    0.36            0.84   \n",
       "2                  8                    0.18            0.90   \n",
       "3                  3                    0.58            0.92   \n",
       "4                  6                    0.65            0.95   \n",
       "\n",
       "   BASEL_precipitation  BASEL_pressure  BASEL_sunshine  BASEL_temp_max  \\\n",
       "0                 0.09           1.018             0.7            10.9   \n",
       "1                 1.05           1.018             1.1            10.1   \n",
       "2                 0.30           1.018             0.0             9.9   \n",
       "3                 0.00           1.018             4.1            10.6   \n",
       "4                 0.14           1.018             5.4             6.0   \n",
       "\n",
       "   BASEL_temp_mean  BASEL_temp_min  BELGRADE_cloud_cover  ...  \\\n",
       "0              6.5             0.8                     1  ...   \n",
       "1              6.1             3.3                     6  ...   \n",
       "2              8.5             5.1                     6  ...   \n",
       "3              6.3             3.8                     8  ...   \n",
       "4              3.0            -0.7                     8  ...   \n",
       "\n",
       "   STOCKHOLM_temp_min  VALENTIA_cloud_cover  VALENTIA_global_radiation  \\\n",
       "0                 2.2                     5                       0.45   \n",
       "1                 3.0                     7                       0.25   \n",
       "2                 1.3                     7                       0.17   \n",
       "3                 0.4                     7                       0.13   \n",
       "4                 0.8                     3                       0.46   \n",
       "\n",
       "   VALENTIA_humidity  VALENTIA_precipitation  VALENTIA_pressure  \\\n",
       "0               0.88                    0.34             1.0003   \n",
       "1               0.91                    0.84             1.0007   \n",
       "2               0.91                    0.08             1.0096   \n",
       "3               0.86                    0.98             1.0184   \n",
       "4               0.80                    0.00             1.0328   \n",
       "\n",
       "   VALENTIA_sunshine  VALENTIA_temp_max  VALENTIA_temp_mean  VALENTIA_temp_min  \n",
       "0                4.7               10.9                 8.5                6.0  \n",
       "1                0.7               12.1                 8.9                5.6  \n",
       "2                0.1               12.9                10.5                8.1  \n",
       "3                0.0               10.6                 7.4                7.3  \n",
       "4                5.7                8.4                 5.7                3.0  \n",
       "\n",
       "[5 rows x 135 columns]"
      ]
     },
     "execution_count": 5,
     "metadata": {},
     "output_type": "execute_result"
    }
   ],
   "source": [
    "# Check output\n",
    "df_cw.head()"
   ]
  },
  {
   "cell_type": "code",
   "execution_count": 6,
   "id": "c06dc5d2",
   "metadata": {
    "scrolled": true
   },
   "outputs": [
    {
     "data": {
      "text/plain": [
       "(22950, 135)"
      ]
     },
     "execution_count": 6,
     "metadata": {},
     "output_type": "execute_result"
    }
   ],
   "source": [
    "# Check shape\n",
    "df_cw.shape"
   ]
  },
  {
   "cell_type": "code",
   "execution_count": 7,
   "id": "1ec251a0",
   "metadata": {
    "scrolled": true
   },
   "outputs": [],
   "source": [
    "# Import climatewin prediction data\n",
    "df_cw_pred = pd.read_csv(os.path.join(path, '02 Data', 'Prepared Data', 'climatewin_answers_cleaned.csv'))"
   ]
  },
  {
   "cell_type": "code",
   "execution_count": 8,
   "id": "38f8747b",
   "metadata": {
    "scrolled": false
   },
   "outputs": [
    {
     "data": {
      "text/html": [
       "<div>\n",
       "<style scoped>\n",
       "    .dataframe tbody tr th:only-of-type {\n",
       "        vertical-align: middle;\n",
       "    }\n",
       "\n",
       "    .dataframe tbody tr th {\n",
       "        vertical-align: top;\n",
       "    }\n",
       "\n",
       "    .dataframe thead th {\n",
       "        text-align: right;\n",
       "    }\n",
       "</style>\n",
       "<table border=\"1\" class=\"dataframe\">\n",
       "  <thead>\n",
       "    <tr style=\"text-align: right;\">\n",
       "      <th></th>\n",
       "      <th>BASEL_pleasant_weather</th>\n",
       "      <th>BELGRADE_pleasant_weather</th>\n",
       "      <th>BUDAPEST_pleasant_weather</th>\n",
       "      <th>DEBILT_pleasant_weather</th>\n",
       "      <th>DUSSELDORF_pleasant_weather</th>\n",
       "      <th>HEATHROW_pleasant_weather</th>\n",
       "      <th>KASSEL_pleasant_weather</th>\n",
       "      <th>LJUBLJANA_pleasant_weather</th>\n",
       "      <th>MAASTRICHT_pleasant_weather</th>\n",
       "      <th>MADRID_pleasant_weather</th>\n",
       "      <th>MUNCHENB_pleasant_weather</th>\n",
       "      <th>OSLO_pleasant_weather</th>\n",
       "      <th>SONNBLICK_pleasant_weather</th>\n",
       "      <th>STOCKHOLM_pleasant_weather</th>\n",
       "      <th>VALENTIA_pleasant_weather</th>\n",
       "    </tr>\n",
       "  </thead>\n",
       "  <tbody>\n",
       "    <tr>\n",
       "      <th>0</th>\n",
       "      <td>0</td>\n",
       "      <td>0</td>\n",
       "      <td>0</td>\n",
       "      <td>0</td>\n",
       "      <td>0</td>\n",
       "      <td>0</td>\n",
       "      <td>0</td>\n",
       "      <td>0</td>\n",
       "      <td>0</td>\n",
       "      <td>0</td>\n",
       "      <td>0</td>\n",
       "      <td>0</td>\n",
       "      <td>0</td>\n",
       "      <td>0</td>\n",
       "      <td>0</td>\n",
       "    </tr>\n",
       "    <tr>\n",
       "      <th>1</th>\n",
       "      <td>0</td>\n",
       "      <td>0</td>\n",
       "      <td>0</td>\n",
       "      <td>0</td>\n",
       "      <td>0</td>\n",
       "      <td>0</td>\n",
       "      <td>0</td>\n",
       "      <td>0</td>\n",
       "      <td>0</td>\n",
       "      <td>0</td>\n",
       "      <td>0</td>\n",
       "      <td>0</td>\n",
       "      <td>0</td>\n",
       "      <td>0</td>\n",
       "      <td>0</td>\n",
       "    </tr>\n",
       "    <tr>\n",
       "      <th>2</th>\n",
       "      <td>0</td>\n",
       "      <td>0</td>\n",
       "      <td>0</td>\n",
       "      <td>0</td>\n",
       "      <td>0</td>\n",
       "      <td>0</td>\n",
       "      <td>0</td>\n",
       "      <td>0</td>\n",
       "      <td>0</td>\n",
       "      <td>0</td>\n",
       "      <td>0</td>\n",
       "      <td>0</td>\n",
       "      <td>0</td>\n",
       "      <td>0</td>\n",
       "      <td>0</td>\n",
       "    </tr>\n",
       "    <tr>\n",
       "      <th>3</th>\n",
       "      <td>0</td>\n",
       "      <td>0</td>\n",
       "      <td>0</td>\n",
       "      <td>0</td>\n",
       "      <td>0</td>\n",
       "      <td>0</td>\n",
       "      <td>0</td>\n",
       "      <td>0</td>\n",
       "      <td>0</td>\n",
       "      <td>0</td>\n",
       "      <td>0</td>\n",
       "      <td>0</td>\n",
       "      <td>0</td>\n",
       "      <td>0</td>\n",
       "      <td>0</td>\n",
       "    </tr>\n",
       "    <tr>\n",
       "      <th>4</th>\n",
       "      <td>0</td>\n",
       "      <td>0</td>\n",
       "      <td>0</td>\n",
       "      <td>0</td>\n",
       "      <td>0</td>\n",
       "      <td>0</td>\n",
       "      <td>0</td>\n",
       "      <td>0</td>\n",
       "      <td>0</td>\n",
       "      <td>0</td>\n",
       "      <td>0</td>\n",
       "      <td>0</td>\n",
       "      <td>0</td>\n",
       "      <td>0</td>\n",
       "      <td>0</td>\n",
       "    </tr>\n",
       "  </tbody>\n",
       "</table>\n",
       "</div>"
      ],
      "text/plain": [
       "   BASEL_pleasant_weather  BELGRADE_pleasant_weather  \\\n",
       "0                       0                          0   \n",
       "1                       0                          0   \n",
       "2                       0                          0   \n",
       "3                       0                          0   \n",
       "4                       0                          0   \n",
       "\n",
       "   BUDAPEST_pleasant_weather  DEBILT_pleasant_weather  \\\n",
       "0                          0                        0   \n",
       "1                          0                        0   \n",
       "2                          0                        0   \n",
       "3                          0                        0   \n",
       "4                          0                        0   \n",
       "\n",
       "   DUSSELDORF_pleasant_weather  HEATHROW_pleasant_weather  \\\n",
       "0                            0                          0   \n",
       "1                            0                          0   \n",
       "2                            0                          0   \n",
       "3                            0                          0   \n",
       "4                            0                          0   \n",
       "\n",
       "   KASSEL_pleasant_weather  LJUBLJANA_pleasant_weather  \\\n",
       "0                        0                           0   \n",
       "1                        0                           0   \n",
       "2                        0                           0   \n",
       "3                        0                           0   \n",
       "4                        0                           0   \n",
       "\n",
       "   MAASTRICHT_pleasant_weather  MADRID_pleasant_weather  \\\n",
       "0                            0                        0   \n",
       "1                            0                        0   \n",
       "2                            0                        0   \n",
       "3                            0                        0   \n",
       "4                            0                        0   \n",
       "\n",
       "   MUNCHENB_pleasant_weather  OSLO_pleasant_weather  \\\n",
       "0                          0                      0   \n",
       "1                          0                      0   \n",
       "2                          0                      0   \n",
       "3                          0                      0   \n",
       "4                          0                      0   \n",
       "\n",
       "   SONNBLICK_pleasant_weather  STOCKHOLM_pleasant_weather  \\\n",
       "0                           0                           0   \n",
       "1                           0                           0   \n",
       "2                           0                           0   \n",
       "3                           0                           0   \n",
       "4                           0                           0   \n",
       "\n",
       "   VALENTIA_pleasant_weather  \n",
       "0                          0  \n",
       "1                          0  \n",
       "2                          0  \n",
       "3                          0  \n",
       "4                          0  "
      ]
     },
     "execution_count": 8,
     "metadata": {},
     "output_type": "execute_result"
    }
   ],
   "source": [
    "# Check output\n",
    "df_cw_pred.head()"
   ]
  },
  {
   "cell_type": "code",
   "execution_count": 9,
   "id": "cfb5eafa",
   "metadata": {
    "scrolled": false
   },
   "outputs": [
    {
     "data": {
      "text/plain": [
       "(22950, 15)"
      ]
     },
     "execution_count": 9,
     "metadata": {},
     "output_type": "execute_result"
    }
   ],
   "source": [
    "# Check shape\n",
    "df_cw_pred.shape"
   ]
  },
  {
   "cell_type": "markdown",
   "id": "3f6b4a4f",
   "metadata": {},
   "source": [
    "## 3. CNN data prep"
   ]
  },
  {
   "cell_type": "code",
   "execution_count": 10,
   "id": "af1457d0",
   "metadata": {},
   "outputs": [],
   "source": [
    "#Create an 'X' and 'y'matrix \n",
    "X = df_cw\n",
    "y = df_cw_pred"
   ]
  },
  {
   "cell_type": "code",
   "execution_count": 11,
   "id": "93f61939",
   "metadata": {},
   "outputs": [],
   "source": [
    "# Create array of 'X' and 'y'\n",
    "X = np.array(X)\n",
    "y = np.array(y)"
   ]
  },
  {
   "cell_type": "code",
   "execution_count": 12,
   "id": "b44aa9ff",
   "metadata": {},
   "outputs": [
    {
     "data": {
      "text/plain": [
       "array([[ 7.  ,  0.32,  0.85, ..., 10.9 ,  8.5 ,  6.  ],\n",
       "       [ 6.  ,  0.36,  0.84, ..., 12.1 ,  8.9 ,  5.6 ],\n",
       "       [ 8.  ,  0.18,  0.9 , ..., 12.9 , 10.5 ,  8.1 ],\n",
       "       ...,\n",
       "       [ 4.  ,  1.34,  0.76, ..., 13.5 , 10.7 ,  7.9 ],\n",
       "       [ 5.  ,  1.34,  0.8 , ..., 13.5 , 10.7 ,  7.9 ],\n",
       "       [ 5.  ,  1.34,  0.84, ..., 13.5 , 10.7 ,  7.9 ]])"
      ]
     },
     "execution_count": 12,
     "metadata": {},
     "output_type": "execute_result"
    }
   ],
   "source": [
    "X"
   ]
  },
  {
   "cell_type": "code",
   "execution_count": 13,
   "id": "73b421ec",
   "metadata": {},
   "outputs": [],
   "source": [
    "# Reshape 'X' for CNN\n",
    "X = X.reshape(-1, 15, 9)"
   ]
  },
  {
   "cell_type": "code",
   "execution_count": 14,
   "id": "037b42f9",
   "metadata": {},
   "outputs": [
    {
     "data": {
      "text/plain": [
       "array([[[  7.  ,   0.32,   0.85, ...,  10.9 ,   6.5 ,   0.8 ],\n",
       "        [  1.  ,   0.88,   0.81, ...,   7.9 ,   3.7 ,  -0.9 ],\n",
       "        [  4.  ,   0.44,   0.67, ...,   5.1 ,   2.4 ,  -0.4 ],\n",
       "        ...,\n",
       "        [  4.  ,   0.48,   0.73, ...,  -3.2 ,  -5.9 ,  -8.5 ],\n",
       "        [  5.  ,   0.05,   0.98, ...,   4.9 ,   4.2 ,   2.2 ],\n",
       "        [  5.  ,   0.45,   0.88, ...,  10.9 ,   8.5 ,   6.  ]],\n",
       "\n",
       "       [[  6.  ,   0.36,   0.84, ...,  10.1 ,   6.1 ,   3.3 ],\n",
       "        [  6.  ,   0.25,   0.84, ...,   4.4 ,   2.9 ,   2.2 ],\n",
       "        [  4.  ,   0.18,   0.67, ...,   3.1 ,   2.3 ,   1.4 ],\n",
       "        ...,\n",
       "        [  6.  ,   0.21,   0.97, ...,  -8.5 ,  -9.5 , -10.5 ],\n",
       "        [  5.  ,   0.05,   0.62, ...,   5.  ,   4.  ,   3.  ],\n",
       "        [  7.  ,   0.25,   0.91, ...,  12.1 ,   8.9 ,   5.6 ]],\n",
       "\n",
       "       [[  8.  ,   0.18,   0.9 , ...,   9.9 ,   8.5 ,   5.1 ],\n",
       "        [  6.  ,   0.67,   0.77, ...,   6.4 ,   3.1 ,  -0.5 ],\n",
       "        [  4.  ,   0.3 ,   0.67, ...,   5.3 ,   2.7 ,   1.7 ],\n",
       "        ...,\n",
       "        [  8.  ,   0.21,   0.93, ...,  -8.9 ,  -9.5 , -10.  ],\n",
       "        [  5.  ,   0.05,   0.69, ...,   4.1 ,   2.4 ,   1.3 ],\n",
       "        [  7.  ,   0.17,   0.91, ...,  12.9 ,  10.5 ,   8.1 ]],\n",
       "\n",
       "       ...,\n",
       "\n",
       "       [[  4.  ,   1.34,   0.76, ...,  22.4 ,  16.7 ,  13.1 ],\n",
       "        [  2.  ,   1.57,   0.68, ...,  18.2 ,  13.4 ,   8.6 ],\n",
       "        [  4.  ,   1.41,   0.67, ...,  16.2 ,  11.7 ,   7.9 ],\n",
       "        ...,\n",
       "        [  3.  ,   1.56,   0.84, ...,   4.5 ,   3.3 ,   2.1 ],\n",
       "        [  5.  ,   1.11,   0.85, ...,  14.4 ,  13.1 ,  12.1 ],\n",
       "        [  5.  ,   1.13,   0.82, ...,  13.5 ,  10.7 ,   7.9 ]],\n",
       "\n",
       "       [[  5.  ,   1.34,   0.8 , ...,  21.1 ,  15.4 ,  11.6 ],\n",
       "        [  1.  ,   1.57,   0.68, ...,  20.9 ,  15.  ,   9.1 ],\n",
       "        [  4.  ,   1.41,   0.67, ...,  16.2 ,  11.7 ,   7.9 ],\n",
       "        ...,\n",
       "        [  3.  ,   1.56,   0.84, ...,   4.1 ,   3.4 ,   2.7 ],\n",
       "        [  5.  ,   1.11,   0.94, ...,  12.4 ,   7.5 ,   5.1 ],\n",
       "        [  5.  ,   1.13,   0.82, ...,  13.5 ,  10.7 ,   7.9 ]],\n",
       "\n",
       "       [[  5.  ,   1.34,   0.84, ...,  19.2 ,  13.5 ,   9.9 ],\n",
       "        [  4.  ,   1.57,   0.68, ...,  18.4 ,  14.4 ,  10.4 ],\n",
       "        [  4.  ,   1.41,   0.67, ...,  16.2 ,  11.7 ,   7.9 ],\n",
       "        ...,\n",
       "        [  4.  ,   1.56,   0.84, ...,   2.7 ,   1.7 ,   0.7 ],\n",
       "        [  5.  ,   1.11,   0.97, ...,  12.6 ,   9.7 ,   5.  ],\n",
       "        [  5.  ,   1.13,   0.82, ...,  13.5 ,  10.7 ,   7.9 ]]])"
      ]
     },
     "execution_count": 14,
     "metadata": {},
     "output_type": "execute_result"
    }
   ],
   "source": [
    "# Check Reshape output\n",
    "X"
   ]
  },
  {
   "cell_type": "code",
   "execution_count": 15,
   "id": "7e792f68",
   "metadata": {},
   "outputs": [
    {
     "data": {
      "text/plain": [
       "(22950, 15, 9)"
      ]
     },
     "execution_count": 15,
     "metadata": {},
     "output_type": "execute_result"
    }
   ],
   "source": [
    "# Check 'X' shape\n",
    "X.shape"
   ]
  },
  {
   "cell_type": "code",
   "execution_count": 16,
   "id": "2c4a3748",
   "metadata": {},
   "outputs": [
    {
     "data": {
      "text/plain": [
       "(22950, 15)"
      ]
     },
     "execution_count": 16,
     "metadata": {},
     "output_type": "execute_result"
    }
   ],
   "source": [
    "# Check 'y' shape\n",
    "y.shape"
   ]
  },
  {
   "cell_type": "code",
   "execution_count": 17,
   "id": "6bafa01c",
   "metadata": {},
   "outputs": [],
   "source": [
    "#Split data into training and testing sets.\n",
    "X_train, X_test, y_train, y_test = train_test_split(X,y,test_size=0.2)"
   ]
  },
  {
   "cell_type": "code",
   "execution_count": 18,
   "id": "f6f93b63",
   "metadata": {},
   "outputs": [
    {
     "name": "stdout",
     "output_type": "stream",
     "text": [
      "(18360, 15, 9) (18360, 15)\n",
      "(4590, 15, 9) (4590, 15)\n"
     ]
    }
   ],
   "source": [
    "# Check training and testing shape\n",
    "print(X_train.shape, y_train.shape)\n",
    "print(X_test.shape, y_test.shape)"
   ]
  },
  {
   "cell_type": "markdown",
   "id": "7d0b520c",
   "metadata": {},
   "source": [
    "## 4. CNN (Convolution Neural Network) model"
   ]
  },
  {
   "cell_type": "code",
   "execution_count": 19,
   "id": "07c57b5f",
   "metadata": {},
   "outputs": [],
   "source": [
    "# Setting up label key for all weather stations\n",
    "stations = {\n",
    "    0: 'BASEL',\n",
    "    1: 'BELGRADE',\n",
    "    2: 'BUDAPEST',\n",
    "    3: 'DEBILT',\n",
    "    4: 'DUSSELDORF',\n",
    "    5: 'HEATHROW',\n",
    "    6: 'KASSEL',\n",
    "    7: 'LJUBLJANA',\n",
    "    8: 'MAASTRICHT',\n",
    "    9: 'MADRID',\n",
    "   10: 'MUNCHENB',\n",
    "   11: 'OSLO',\n",
    "   12: 'SONNBLICK',\n",
    "   13: 'STOCKHOLM',\n",
    "   14: 'VALENTIA',\n",
    "}"
   ]
  },
  {
   "cell_type": "markdown",
   "id": "1fa5a3e0",
   "metadata": {},
   "source": [
    "### 4.1 CNN - Iteration 1"
   ]
  },
  {
   "cell_type": "code",
   "execution_count": 20,
   "id": "cc75a5f1",
   "metadata": {},
   "outputs": [
    {
     "name": "stderr",
     "output_type": "stream",
     "text": [
      "C:\\Users\\Admin\\anaconda3\\Lib\\site-packages\\keras\\src\\layers\\convolutional\\base_conv.py:107: UserWarning: Do not pass an `input_shape`/`input_dim` argument to a layer. When using Sequential models, prefer using an `Input(shape)` object as the first layer in the model instead.\n",
      "  super().__init__(activity_regularizer=activity_regularizer, **kwargs)\n"
     ]
    }
   ],
   "source": [
    "# Create a Keras layered model. Use initial hyperparameters: 10, 16, 16, softmax\n",
    "epochs = 10\n",
    "batch_size = 16\n",
    "n_hidden = 16\n",
    "\n",
    "timesteps = len(X_train[0])\n",
    "input_dim = len(X_train[0][0])\n",
    "n_classes = len(y_train[0])\n",
    "\n",
    "model = Sequential()\n",
    "model.add(Conv1D(n_hidden, kernel_size=2, activation='relu', input_shape=(timesteps, input_dim)))\n",
    "model.add(Dense(16, activation='relu'))\n",
    "model.add(MaxPooling1D())\n",
    "model.add(Flatten())\n",
    "model.add(Dense(n_classes, activation='softmax')) "
   ]
  },
  {
   "cell_type": "code",
   "execution_count": 21,
   "id": "b7ecc026",
   "metadata": {},
   "outputs": [],
   "source": [
    "# Compile model\n",
    "model.compile(loss='categorical_crossentropy', optimizer='adam', metrics=['accuracy'])"
   ]
  },
  {
   "cell_type": "code",
   "execution_count": 22,
   "id": "498b589f",
   "metadata": {},
   "outputs": [
    {
     "name": "stdout",
     "output_type": "stream",
     "text": [
      "Epoch 1/10\n",
      "1148/1148 - 2s - 2ms/step - accuracy: 0.1405 - loss: 2700.7422\n",
      "Epoch 2/10\n",
      "1148/1148 - 1s - 721us/step - accuracy: 0.1410 - loss: 31022.1387\n",
      "Epoch 3/10\n",
      "1148/1148 - 1s - 725us/step - accuracy: 0.1326 - loss: 110516.2500\n",
      "Epoch 4/10\n",
      "1148/1148 - 1s - 718us/step - accuracy: 0.1316 - loss: 241476.1875\n",
      "Epoch 5/10\n",
      "1148/1148 - 1s - 713us/step - accuracy: 0.1286 - loss: 415932.4688\n",
      "Epoch 6/10\n",
      "1148/1148 - 1s - 719us/step - accuracy: 0.1267 - loss: 677151.1250\n",
      "Epoch 7/10\n",
      "1148/1148 - 1s - 726us/step - accuracy: 0.1248 - loss: 995775.4375\n",
      "Epoch 8/10\n",
      "1148/1148 - 1s - 721us/step - accuracy: 0.1277 - loss: 1392189.7500\n",
      "Epoch 9/10\n",
      "1148/1148 - 1s - 718us/step - accuracy: 0.1340 - loss: 1867933.2500\n",
      "Epoch 10/10\n",
      "1148/1148 - 1s - 752us/step - accuracy: 0.1283 - loss: 2440616.7500\n"
     ]
    },
    {
     "data": {
      "text/plain": [
       "<keras.src.callbacks.history.History at 0x218e0554cd0>"
      ]
     },
     "execution_count": 22,
     "metadata": {},
     "output_type": "execute_result"
    }
   ],
   "source": [
    "# Train model\n",
    "model.fit(X_train, y_train, batch_size=batch_size, epochs=epochs, verbose=2)"
   ]
  },
  {
   "cell_type": "code",
   "execution_count": 23,
   "id": "53285f72",
   "metadata": {},
   "outputs": [],
   "source": [
    "# Create confusion matrix\n",
    "def confusion_matrix(y_true, y_pred):\n",
    "    y_true = pd.Series([stations[y] for y in np.argmax(y_true, axis=1)])\n",
    "    y_pred = pd.Series([stations[y] for y in np.argmax(y_pred, axis=1)])\n",
    "\n",
    "    return pd.crosstab(y_true, y_pred, rownames=['True'], colnames=['Pred'])"
   ]
  },
  {
   "cell_type": "code",
   "execution_count": 24,
   "id": "1b769ac7",
   "metadata": {},
   "outputs": [
    {
     "name": "stdout",
     "output_type": "stream",
     "text": [
      "\u001b[1m144/144\u001b[0m \u001b[32m━━━━━━━━━━━━━━━━━━━━\u001b[0m\u001b[37m\u001b[0m \u001b[1m0s\u001b[0m 805us/step\n",
      "Pred        BASEL  BELGRADE  BUDAPEST  DEBILT  DUSSELDORF  HEATHROW  KASSEL  \\\n",
      "True                                                                          \n",
      "BASEL           5       929         1       2          16       189     101   \n",
      "BELGRADE        0       506         0       0           0         1       0   \n",
      "BUDAPEST        0        65         0       0           0         1       0   \n",
      "DEBILT          0        13         0       0           0         1       0   \n",
      "DUSSELDORF      0        11         0       0           0         0       1   \n",
      "HEATHROW        0        12         0       0           0         2       0   \n",
      "KASSEL          0         5         0       0           0         0       0   \n",
      "LJUBLJANA       0        12         0       0           0         0       0   \n",
      "MAASTRICHT      0         3         0       0           0         0       0   \n",
      "MADRID          0        56         0       0           1        17       1   \n",
      "MUNCHENB        0         5         0       0           0         0       0   \n",
      "OSLO            0         5         0       0           0         0       0   \n",
      "STOCKHOLM       0         2         0       0           0         0       0   \n",
      "VALENTIA        0         1         0       0           0         0       0   \n",
      "\n",
      "Pred        LJUBLJANA  MAASTRICHT  MADRID  MUNCHENB  OSLO  SONNBLICK  \\\n",
      "True                                                                   \n",
      "BASEL               1         153     482       620   102          9   \n",
      "BELGRADE            0          17     124        82    12          0   \n",
      "BUDAPEST            0           4      39        13     4          0   \n",
      "DEBILT              0           3      13         6     7          0   \n",
      "DUSSELDORF          0           0       3         0     1          0   \n",
      "HEATHROW            0           3      40         2     5          0   \n",
      "KASSEL              0           1       1         1     0          0   \n",
      "LJUBLJANA           0           0      21         0     1          0   \n",
      "MAASTRICHT          0           1       2         0     0          0   \n",
      "MADRID              0           9     218        17    18          0   \n",
      "MUNCHENB            0           0       1         0     0          0   \n",
      "OSLO                0           0       0         0     2          0   \n",
      "STOCKHOLM           0           0       0         0     0          0   \n",
      "VALENTIA            0           1       1         0     0          0   \n",
      "\n",
      "Pred        STOCKHOLM  VALENTIA  \n",
      "True                             \n",
      "BASEL             326        22  \n",
      "BELGRADE          121         0  \n",
      "BUDAPEST           41         0  \n",
      "DEBILT             14         0  \n",
      "DUSSELDORF          6         0  \n",
      "HEATHROW           14         0  \n",
      "KASSEL              1         0  \n",
      "LJUBLJANA           6         0  \n",
      "MAASTRICHT          1         0  \n",
      "MADRID             32         0  \n",
      "MUNCHENB            0         0  \n",
      "OSLO                2         0  \n",
      "STOCKHOLM           0         0  \n",
      "VALENTIA            0         0  \n"
     ]
    }
   ],
   "source": [
    "# Evaluate confusion matrix\n",
    "print(confusion_matrix(y_test, model.predict(X_test)))"
   ]
  },
  {
   "cell_type": "markdown",
   "id": "8f20573b",
   "metadata": {},
   "source": [
    "#### Iteration 1 model seems to be less accurate after each epoch and loss seems to increase after each epoch."
   ]
  },
  {
   "cell_type": "markdown",
   "id": "0ee34f97",
   "metadata": {},
   "source": [
    "### 4.2 CNN - Iteration 2"
   ]
  },
  {
   "cell_type": "code",
   "execution_count": 25,
   "id": "8d624bc5",
   "metadata": {},
   "outputs": [
    {
     "name": "stderr",
     "output_type": "stream",
     "text": [
      "C:\\Users\\Admin\\anaconda3\\Lib\\site-packages\\keras\\src\\layers\\convolutional\\base_conv.py:107: UserWarning: Do not pass an `input_shape`/`input_dim` argument to a layer. When using Sequential models, prefer using an `Input(shape)` object as the first layer in the model instead.\n",
      "  super().__init__(activity_regularizer=activity_regularizer, **kwargs)\n"
     ]
    }
   ],
   "source": [
    "# Create a Keras layered model. Use initial hyperparameters: 10, 16, 32, sigmoid\n",
    "epochs = 10\n",
    "batch_size = 16\n",
    "n_hidden = 32\n",
    "\n",
    "timesteps = len(X_train[0])\n",
    "input_dim = len(X_train[0][0])\n",
    "n_classes = len(y_train[0])\n",
    "\n",
    "model = Sequential()\n",
    "model.add(Conv1D(n_hidden, kernel_size=2, activation='relu', input_shape=(timesteps, input_dim)))\n",
    "model.add(Dense(16, activation='relu'))\n",
    "model.add(MaxPooling1D())\n",
    "model.add(Flatten())\n",
    "model.add(Dense(n_classes, activation='sigmoid')) "
   ]
  },
  {
   "cell_type": "code",
   "execution_count": 26,
   "id": "d7b016f6",
   "metadata": {},
   "outputs": [],
   "source": [
    "# Compile model\n",
    "model.compile(loss='categorical_crossentropy', optimizer='adam', metrics=['accuracy'])"
   ]
  },
  {
   "cell_type": "code",
   "execution_count": 27,
   "id": "824f142b",
   "metadata": {},
   "outputs": [
    {
     "name": "stdout",
     "output_type": "stream",
     "text": [
      "Epoch 1/10\n",
      "1148/1148 - 2s - 2ms/step - accuracy: 0.0935 - loss: 5297.6641\n",
      "Epoch 2/10\n",
      "1148/1148 - 1s - 734us/step - accuracy: 0.1226 - loss: 50956.0234\n",
      "Epoch 3/10\n",
      "1148/1148 - 1s - 739us/step - accuracy: 0.1299 - loss: 169135.1094\n",
      "Epoch 4/10\n",
      "1148/1148 - 1s - 789us/step - accuracy: 0.1319 - loss: 387815.0000\n",
      "Epoch 5/10\n",
      "1148/1148 - 1s - 782us/step - accuracy: 0.1344 - loss: 694765.0000\n",
      "Epoch 6/10\n",
      "1148/1148 - 1s - 750us/step - accuracy: 0.1337 - loss: 1117700.2500\n",
      "Epoch 7/10\n",
      "1148/1148 - 1s - 755us/step - accuracy: 0.1278 - loss: 1648540.7500\n",
      "Epoch 8/10\n",
      "1148/1148 - 1s - 742us/step - accuracy: 0.1310 - loss: 2324829.5000\n",
      "Epoch 9/10\n",
      "1148/1148 - 1s - 739us/step - accuracy: 0.1276 - loss: 3067131.5000\n",
      "Epoch 10/10\n",
      "1148/1148 - 1s - 738us/step - accuracy: 0.1302 - loss: 4009663.7500\n"
     ]
    },
    {
     "data": {
      "text/plain": [
       "<keras.src.callbacks.history.History at 0x218e689af50>"
      ]
     },
     "execution_count": 27,
     "metadata": {},
     "output_type": "execute_result"
    }
   ],
   "source": [
    "# Train model\n",
    "model.fit(X_train, y_train, batch_size=batch_size, epochs=epochs, verbose=2)"
   ]
  },
  {
   "cell_type": "code",
   "execution_count": 28,
   "id": "f6da7bcb",
   "metadata": {},
   "outputs": [],
   "source": [
    "# Create confusion matrix\n",
    "def confusion_matrix(y_true, y_pred):\n",
    "    y_true = pd.Series([stations[y] for y in np.argmax(y_true, axis=1)])\n",
    "    y_pred = pd.Series([stations[y] for y in np.argmax(y_pred, axis=1)])\n",
    "\n",
    "    return pd.crosstab(y_true, y_pred, rownames=['True'], colnames=['Pred'])"
   ]
  },
  {
   "cell_type": "code",
   "execution_count": 29,
   "id": "7f44fd14",
   "metadata": {},
   "outputs": [
    {
     "name": "stdout",
     "output_type": "stream",
     "text": [
      "\u001b[1m144/144\u001b[0m \u001b[32m━━━━━━━━━━━━━━━━━━━━\u001b[0m\u001b[37m\u001b[0m \u001b[1m0s\u001b[0m 784us/step\n",
      "Pred        BASEL\n",
      "True             \n",
      "BASEL        2958\n",
      "BELGRADE      863\n",
      "BUDAPEST      167\n",
      "DEBILT         57\n",
      "DUSSELDORF     22\n",
      "HEATHROW       78\n",
      "KASSEL          9\n",
      "LJUBLJANA      40\n",
      "MAASTRICHT      7\n",
      "MADRID        369\n",
      "MUNCHENB        6\n",
      "OSLO            9\n",
      "STOCKHOLM       2\n",
      "VALENTIA        3\n"
     ]
    }
   ],
   "source": [
    "# Evaluate confusion matrix\n",
    "print(confusion_matrix(y_test, model.predict(X_test)))"
   ]
  },
  {
   "cell_type": "markdown",
   "id": "9f15be90",
   "metadata": {},
   "source": [
    "#### Changing the activation to 'Sigmoid', Iteration 2 model seems to be slightly more accurate after each epoch but loss seems to increase after each epoch."
   ]
  },
  {
   "cell_type": "markdown",
   "id": "fe40ce84",
   "metadata": {},
   "source": [
    "### 4.3 CNN - Iterations 3"
   ]
  },
  {
   "cell_type": "code",
   "execution_count": 30,
   "id": "9e883266",
   "metadata": {},
   "outputs": [
    {
     "name": "stderr",
     "output_type": "stream",
     "text": [
      "C:\\Users\\Admin\\anaconda3\\Lib\\site-packages\\keras\\src\\layers\\convolutional\\base_conv.py:107: UserWarning: Do not pass an `input_shape`/`input_dim` argument to a layer. When using Sequential models, prefer using an `Input(shape)` object as the first layer in the model instead.\n",
      "  super().__init__(activity_regularizer=activity_regularizer, **kwargs)\n"
     ]
    }
   ],
   "source": [
    "# Create a Keras layered model. Use initial hyperparameters: 10, 16, 32, tanh\n",
    "epochs = 10\n",
    "batch_size = 16\n",
    "n_hidden = 32\n",
    "\n",
    "timesteps = len(X_train[0])\n",
    "input_dim = len(X_train[0][0])\n",
    "n_classes = len(y_train[0])\n",
    "\n",
    "model = Sequential()\n",
    "model.add(Conv1D(n_hidden, kernel_size=2, activation='relu', input_shape=(timesteps, input_dim)))\n",
    "model.add(Dense(16, activation='relu'))\n",
    "model.add(MaxPooling1D())\n",
    "model.add(Flatten())\n",
    "model.add(Dense(n_classes, activation='tanh')) "
   ]
  },
  {
   "cell_type": "code",
   "execution_count": 31,
   "id": "c74be41a",
   "metadata": {},
   "outputs": [],
   "source": [
    "# Compile model\n",
    "model.compile(loss='categorical_crossentropy', optimizer='adam', metrics=['accuracy'])"
   ]
  },
  {
   "cell_type": "code",
   "execution_count": 32,
   "id": "325fc4df",
   "metadata": {},
   "outputs": [
    {
     "name": "stdout",
     "output_type": "stream",
     "text": [
      "Epoch 1/10\n",
      "1148/1148 - 2s - 2ms/step - accuracy: 0.0219 - loss: 26.7014\n",
      "Epoch 2/10\n",
      "1148/1148 - 1s - 754us/step - accuracy: 0.0351 - loss: 25.4624\n",
      "Epoch 3/10\n",
      "1148/1148 - 1s - 751us/step - accuracy: 0.0352 - loss: 26.9530\n",
      "Epoch 4/10\n",
      "1148/1148 - 1s - 752us/step - accuracy: 0.0352 - loss: 26.9478\n",
      "Epoch 5/10\n",
      "1148/1148 - 1s - 759us/step - accuracy: 0.0352 - loss: 26.9600\n",
      "Epoch 6/10\n",
      "1148/1148 - 1s - 779us/step - accuracy: 0.0352 - loss: 26.9600\n",
      "Epoch 7/10\n",
      "1148/1148 - 1s - 757us/step - accuracy: 0.0352 - loss: 26.9600\n",
      "Epoch 8/10\n",
      "1148/1148 - 1s - 752us/step - accuracy: 0.0352 - loss: 24.9023\n",
      "Epoch 9/10\n",
      "1148/1148 - 1s - 759us/step - accuracy: 0.0352 - loss: 22.5346\n",
      "Epoch 10/10\n",
      "1148/1148 - 1s - 767us/step - accuracy: 0.0352 - loss: 22.5355\n"
     ]
    },
    {
     "data": {
      "text/plain": [
       "<keras.src.callbacks.history.History at 0x218e78d33d0>"
      ]
     },
     "execution_count": 32,
     "metadata": {},
     "output_type": "execute_result"
    }
   ],
   "source": [
    "# Train model\n",
    "model.fit(X_train, y_train, batch_size=batch_size, epochs=epochs, verbose=2)"
   ]
  },
  {
   "cell_type": "code",
   "execution_count": 33,
   "id": "c091692d",
   "metadata": {},
   "outputs": [],
   "source": [
    "# Create confusion matrix\n",
    "def confusion_matrix(y_true, y_pred):\n",
    "    y_true = pd.Series([stations[y] for y in np.argmax(y_true, axis=1)])\n",
    "    y_pred = pd.Series([stations[y] for y in np.argmax(y_pred, axis=1)])\n",
    "\n",
    "    return pd.crosstab(y_true, y_pred, rownames=['True'], colnames=['Pred'])"
   ]
  },
  {
   "cell_type": "code",
   "execution_count": 34,
   "id": "5ec11d1d",
   "metadata": {},
   "outputs": [
    {
     "name": "stdout",
     "output_type": "stream",
     "text": [
      "\u001b[1m144/144\u001b[0m \u001b[32m━━━━━━━━━━━━━━━━━━━━\u001b[0m\u001b[37m\u001b[0m \u001b[1m0s\u001b[0m 777us/step\n",
      "Pred        BUDAPEST  DEBILT  DUSSELDORF  HEATHROW  KASSEL\n",
      "True                                                      \n",
      "BASEL           1604    1331          12         5       6\n",
      "BELGRADE         861       2           0         0       0\n",
      "BUDAPEST         167       0           0         0       0\n",
      "DEBILT            57       0           0         0       0\n",
      "DUSSELDORF        22       0           0         0       0\n",
      "HEATHROW          75       3           0         0       0\n",
      "KASSEL             9       0           0         0       0\n",
      "LJUBLJANA         40       0           0         0       0\n",
      "MAASTRICHT         7       0           0         0       0\n",
      "MADRID           308      61           0         0       0\n",
      "MUNCHENB           6       0           0         0       0\n",
      "OSLO               9       0           0         0       0\n",
      "STOCKHOLM          2       0           0         0       0\n",
      "VALENTIA           3       0           0         0       0\n"
     ]
    }
   ],
   "source": [
    "# Evaluate confusion matrix\n",
    "print(confusion_matrix(y_test, model.predict(X_test)))"
   ]
  },
  {
   "cell_type": "markdown",
   "id": "6b4bd48b",
   "metadata": {},
   "source": [
    "#### Changing the activation to 'tanh', Iteration 3 model seems to be slightly more accurate after each epoch but loss seems to decrease after each epoch."
   ]
  },
  {
   "cell_type": "markdown",
   "id": "9a647390",
   "metadata": {},
   "source": [
    "### 4.4 CNN - Iteration 4"
   ]
  },
  {
   "cell_type": "code",
   "execution_count": 35,
   "id": "bfe5a1d6",
   "metadata": {},
   "outputs": [
    {
     "name": "stderr",
     "output_type": "stream",
     "text": [
      "C:\\Users\\Admin\\anaconda3\\Lib\\site-packages\\keras\\src\\layers\\convolutional\\base_conv.py:107: UserWarning: Do not pass an `input_shape`/`input_dim` argument to a layer. When using Sequential models, prefer using an `Input(shape)` object as the first layer in the model instead.\n",
      "  super().__init__(activity_regularizer=activity_regularizer, **kwargs)\n"
     ]
    }
   ],
   "source": [
    "# Create a Keras layered model. Use initial hyperparameters: 10, 16, 64, tanh\n",
    "epochs = 10\n",
    "batch_size = 16\n",
    "n_hidden = 64\n",
    "\n",
    "timesteps = len(X_train[0])\n",
    "input_dim = len(X_train[0][0])\n",
    "n_classes = len(y_train[0])\n",
    "\n",
    "model = Sequential()\n",
    "model.add(Conv1D(n_hidden, kernel_size=2, activation='relu', input_shape=(timesteps, input_dim)))\n",
    "model.add(Dense(16, activation='relu'))\n",
    "model.add(MaxPooling1D())\n",
    "model.add(Flatten())\n",
    "model.add(Dense(n_classes, activation='tanh')) "
   ]
  },
  {
   "cell_type": "code",
   "execution_count": 36,
   "id": "37aedd65",
   "metadata": {},
   "outputs": [],
   "source": [
    "# Compile model\n",
    "model.compile(loss='categorical_crossentropy', optimizer='adam', metrics=['accuracy'])"
   ]
  },
  {
   "cell_type": "code",
   "execution_count": 37,
   "id": "04fcf5f8",
   "metadata": {},
   "outputs": [
    {
     "name": "stdout",
     "output_type": "stream",
     "text": [
      "Epoch 1/10\n",
      "1148/1148 - 2s - 2ms/step - accuracy: 0.1563 - loss: 24.8105\n",
      "Epoch 2/10\n",
      "1148/1148 - 1s - 778us/step - accuracy: 0.0026 - loss: 27.2866\n",
      "Epoch 3/10\n",
      "1148/1148 - 1s - 779us/step - accuracy: 0.0026 - loss: 28.2777\n",
      "Epoch 4/10\n",
      "1148/1148 - 1s - 778us/step - accuracy: 0.0026 - loss: 28.2778\n",
      "Epoch 5/10\n",
      "1148/1148 - 1s - 780us/step - accuracy: 0.0026 - loss: 28.2778\n",
      "Epoch 6/10\n",
      "1148/1148 - 1s - 793us/step - accuracy: 0.0026 - loss: 28.2778\n",
      "Epoch 7/10\n",
      "1148/1148 - 1s - 788us/step - accuracy: 0.0026 - loss: 28.2778\n",
      "Epoch 8/10\n",
      "1148/1148 - 1s - 779us/step - accuracy: 0.0026 - loss: 28.2778\n",
      "Epoch 9/10\n",
      "1148/1148 - 1s - 779us/step - accuracy: 0.0026 - loss: 28.2778\n",
      "Epoch 10/10\n",
      "1148/1148 - 1s - 793us/step - accuracy: 0.0026 - loss: 28.2777\n"
     ]
    },
    {
     "data": {
      "text/plain": [
       "<keras.src.callbacks.history.History at 0x218e96e2f50>"
      ]
     },
     "execution_count": 37,
     "metadata": {},
     "output_type": "execute_result"
    }
   ],
   "source": [
    "# Train model\n",
    "model.fit(X_train, y_train, batch_size=batch_size, epochs=epochs, verbose=2)"
   ]
  },
  {
   "cell_type": "code",
   "execution_count": 38,
   "id": "322312d0",
   "metadata": {},
   "outputs": [],
   "source": [
    "# Create confusion matrix\n",
    "def confusion_matrix(y_true, y_pred):\n",
    "    y_true = pd.Series([stations[y] for y in np.argmax(y_true, axis=1)])\n",
    "    y_pred = pd.Series([stations[y] for y in np.argmax(y_pred, axis=1)])\n",
    "\n",
    "    return pd.crosstab(y_true, y_pred, rownames=['True'], colnames=['Pred'])"
   ]
  },
  {
   "cell_type": "code",
   "execution_count": 39,
   "id": "7d36bb3d",
   "metadata": {},
   "outputs": [
    {
     "name": "stdout",
     "output_type": "stream",
     "text": [
      "\u001b[1m144/144\u001b[0m \u001b[32m━━━━━━━━━━━━━━━━━━━━\u001b[0m\u001b[37m\u001b[0m \u001b[1m0s\u001b[0m 833us/step\n",
      "Pred        DEBILT  HEATHROW  KASSEL  MAASTRICHT  MADRID  SONNBLICK  VALENTIA\n",
      "True                                                                         \n",
      "BASEL           61        32    2184          77      10          6       588\n",
      "BELGRADE        18         0     800           8       8          0        29\n",
      "BUDAPEST         0         0     165           0       1          0         1\n",
      "DEBILT           0         0      56           0       0          0         1\n",
      "DUSSELDORF       0         0      21           0       0          0         1\n",
      "HEATHROW         0         0      76           0       0          0         2\n",
      "KASSEL           0         0       9           0       0          0         0\n",
      "LJUBLJANA        0         0      38           0       0          0         2\n",
      "MAASTRICHT       0         0       7           0       0          0         0\n",
      "MADRID           1         0     324           3       0          0        41\n",
      "MUNCHENB         0         0       5           0       0          0         1\n",
      "OSLO             0         0       9           0       0          0         0\n",
      "STOCKHOLM        0         0       2           0       0          0         0\n",
      "VALENTIA         0         0       2           0       0          0         1\n"
     ]
    }
   ],
   "source": [
    "# Evaluate confusion matrix\n",
    "print(confusion_matrix(y_test, model.predict(X_test)))"
   ]
  },
  {
   "cell_type": "markdown",
   "id": "ee594a00",
   "metadata": {},
   "source": [
    "#### Increasing the amount of hidden layers seems to make the model less accurate after each epoch but loss seems to increase after each epoch, but it  recognized more stations."
   ]
  },
  {
   "cell_type": "markdown",
   "id": "b622edd4",
   "metadata": {},
   "source": [
    "### 4.5 CNN - Iteration 5 "
   ]
  },
  {
   "cell_type": "code",
   "execution_count": 265,
   "id": "7c360a07",
   "metadata": {},
   "outputs": [
    {
     "name": "stderr",
     "output_type": "stream",
     "text": [
      "C:\\Users\\Admin\\anaconda3\\Lib\\site-packages\\keras\\src\\layers\\convolutional\\base_conv.py:107: UserWarning: Do not pass an `input_shape`/`input_dim` argument to a layer. When using Sequential models, prefer using an `Input(shape)` object as the first layer in the model instead.\n",
      "  super().__init__(activity_regularizer=activity_regularizer, **kwargs)\n"
     ]
    }
   ],
   "source": [
    "# Create a Keras layered model. Use initial hyperparameters: 10, 16, 16, tanh\n",
    "epochs = 10\n",
    "batch_size = 8\n",
    "n_hidden = 32\n",
    "\n",
    "timesteps = len(X_train[0])\n",
    "input_dim = len(X_train[0][0])\n",
    "n_classes = len(y_train[0])\n",
    "\n",
    "model = Sequential()\n",
    "model.add(Conv1D(n_hidden, kernel_size=2, activation='relu', input_shape=(timesteps, input_dim)))\n",
    "model.add(Dense(16, activation='relu'))\n",
    "model.add(MaxPooling1D())\n",
    "model.add(Flatten())\n",
    "model.add(Dense(n_classes, activation='tanh')) "
   ]
  },
  {
   "cell_type": "code",
   "execution_count": 266,
   "id": "453cbcb9",
   "metadata": {},
   "outputs": [],
   "source": [
    "# Compile model\n",
    "model.compile(loss='categorical_crossentropy', optimizer='adam', metrics=['accuracy'])"
   ]
  },
  {
   "cell_type": "code",
   "execution_count": 267,
   "id": "c96aae59",
   "metadata": {},
   "outputs": [
    {
     "name": "stdout",
     "output_type": "stream",
     "text": [
      "Epoch 1/10\n",
      "2295/2295 - 2s - 1ms/step - accuracy: 0.1963 - loss: 26.3336\n",
      "Epoch 2/10\n",
      "2295/2295 - 2s - 708us/step - accuracy: 0.2094 - loss: 26.4631\n",
      "Epoch 3/10\n",
      "2295/2295 - 2s - 710us/step - accuracy: 0.2064 - loss: 26.4702\n",
      "Epoch 4/10\n",
      "2295/2295 - 2s - 707us/step - accuracy: 0.2034 - loss: 23.9620\n",
      "Epoch 5/10\n",
      "2295/2295 - 2s - 707us/step - accuracy: 0.2325 - loss: 25.3421\n",
      "Epoch 6/10\n",
      "2295/2295 - 2s - 712us/step - accuracy: 0.2471 - loss: 26.3824\n",
      "Epoch 7/10\n",
      "2295/2295 - 2s - 741us/step - accuracy: 0.2515 - loss: 26.3806\n",
      "Epoch 8/10\n",
      "2295/2295 - 2s - 710us/step - accuracy: 0.2580 - loss: 25.2367\n",
      "Epoch 9/10\n",
      "2295/2295 - 2s - 711us/step - accuracy: 0.2670 - loss: 23.1447\n",
      "Epoch 10/10\n",
      "2295/2295 - 2s - 707us/step - accuracy: 0.2648 - loss: 23.1509\n"
     ]
    },
    {
     "data": {
      "text/plain": [
       "<keras.src.callbacks.history.History at 0x218b17afb90>"
      ]
     },
     "execution_count": 267,
     "metadata": {},
     "output_type": "execute_result"
    }
   ],
   "source": [
    "# Train model\n",
    "model.fit(X_train, y_train, batch_size=batch_size, epochs=epochs, verbose=2)"
   ]
  },
  {
   "cell_type": "code",
   "execution_count": 268,
   "id": "ffa1d937",
   "metadata": {},
   "outputs": [],
   "source": [
    "# Create confusion matrix\n",
    "def confusion_matrix(y_true, y_pred):\n",
    "    y_true = pd.Series([stations[y] for y in np.argmax(y_true, axis=1)])\n",
    "    y_pred = pd.Series([stations[y] for y in np.argmax(y_pred, axis=1)])\n",
    "\n",
    "    return pd.crosstab(y_true, y_pred, rownames=['True'], colnames=['Pred'])"
   ]
  },
  {
   "cell_type": "code",
   "execution_count": 269,
   "id": "2e70951a",
   "metadata": {},
   "outputs": [
    {
     "name": "stdout",
     "output_type": "stream",
     "text": [
      "\u001b[1m144/144\u001b[0m \u001b[32m━━━━━━━━━━━━━━━━━━━━\u001b[0m\u001b[37m\u001b[0m \u001b[1m0s\u001b[0m 777us/step\n",
      "Pred        BASEL  BELGRADE  BUDAPEST  DUSSELDORF  HEATHROW  LJUBLJANA  \\\n",
      "True                                                                     \n",
      "BASEL        1177        34         0          12      1729          1   \n",
      "BELGRADE      728        10         0           4       121          0   \n",
      "BUDAPEST      146         5         0           2        14          0   \n",
      "DEBILT         54         1         0           2         0          0   \n",
      "DUSSELDORF     20         0         0           0         2          0   \n",
      "HEATHROW       66         3         1           3         5          0   \n",
      "KASSEL          7         2         0           0         0          0   \n",
      "LJUBLJANA      37         0         0           0         3          0   \n",
      "MAASTRICHT      5         2         0           0         0          0   \n",
      "MADRID        223         6         1           7       132          0   \n",
      "MUNCHENB        4         1         0           0         1          0   \n",
      "OSLO            5         0         0           4         0          0   \n",
      "STOCKHOLM       0         1         0           1         0          0   \n",
      "VALENTIA        1         0         0           0         2          0   \n",
      "\n",
      "Pred        SONNBLICK  \n",
      "True                   \n",
      "BASEL               5  \n",
      "BELGRADE            0  \n",
      "BUDAPEST            0  \n",
      "DEBILT              0  \n",
      "DUSSELDORF          0  \n",
      "HEATHROW            0  \n",
      "KASSEL              0  \n",
      "LJUBLJANA           0  \n",
      "MAASTRICHT          0  \n",
      "MADRID              0  \n",
      "MUNCHENB            0  \n",
      "OSLO                0  \n",
      "STOCKHOLM           0  \n",
      "VALENTIA            0  \n"
     ]
    }
   ],
   "source": [
    "# Evaluate confusion matrix\n",
    "print(confusion_matrix(y_test, model.predict(X_test)))"
   ]
  },
  {
   "cell_type": "markdown",
   "id": "71b6b411",
   "metadata": {},
   "source": [
    "#### These parameter seems to be the best as it improves the accuracy each epoch and reduces the loss."
   ]
  },
  {
   "cell_type": "code",
   "execution_count": null,
   "id": "94ec7f20",
   "metadata": {},
   "outputs": [],
   "source": []
  }
 ],
 "metadata": {
  "kernelspec": {
   "display_name": "Python 3 (ipykernel)",
   "language": "python",
   "name": "python3"
  },
  "language_info": {
   "codemirror_mode": {
    "name": "ipython",
    "version": 3
   },
   "file_extension": ".py",
   "mimetype": "text/x-python",
   "name": "python",
   "nbconvert_exporter": "python",
   "pygments_lexer": "ipython3",
   "version": "3.11.7"
  }
 },
 "nbformat": 4,
 "nbformat_minor": 5
}
