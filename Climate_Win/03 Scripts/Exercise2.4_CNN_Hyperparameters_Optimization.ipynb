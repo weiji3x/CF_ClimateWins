{
 "cells": [
  {
   "cell_type": "markdown",
   "id": "e65e8d51",
   "metadata": {},
   "source": [
    "## Content list"
   ]
  },
  {
   "cell_type": "markdown",
   "id": "b86ca9f6",
   "metadata": {},
   "source": [
    "#### 1. Import libraries\n",
    "#### 2. Import data\n",
    "#### 3. CNN data prep\n",
    "#### 4. Bayesian Hyperparameter Optimization\n",
    "#### 5. CNN (Convolution Neural Network) model"
   ]
  },
  {
   "cell_type": "markdown",
   "id": "c3605bf2",
   "metadata": {},
   "source": [
    "## 1. Import libraries"
   ]
  },
  {
   "cell_type": "code",
   "execution_count": 1,
   "id": "5a1883d8",
   "metadata": {
    "scrolled": true
   },
   "outputs": [],
   "source": [
    "# Import libraries\n",
    "import pandas as pd\n",
    "import numpy as np\n",
    "import seaborn as sns\n",
    "import os\n",
    "import operator\n",
    "import time\n",
    "import matplotlib.pyplot as plt\n",
    "from sklearn.preprocessing import LabelEncoder\n",
    "from sklearn.model_selection import train_test_split\n",
    "from sklearn.metrics import make_scorer, accuracy_score\n",
    "from sklearn.model_selection import StratifiedKFold\n",
    "from sklearn.utils.multiclass import type_of_target\n",
    "import tensorflow as tf\n",
    "from numpy import unique\n",
    "from numpy import reshape\n",
    "from tensorflow.keras.models import Sequential\n",
    "from sklearn.model_selection import cross_val_score\n",
    "from tensorflow.keras.layers import Input, Conv1D, Dense, Dropout, BatchNormalization, Flatten, MaxPooling1D\n",
    "from tensorflow.keras.utils import to_categorical\n",
    "from tensorflow.keras.optimizers import Adam, SGD, RMSprop, Adadelta, Adagrad, Adamax, Nadam, Ftrl\n",
    "from tensorflow.keras.callbacks import EarlyStopping, ModelCheckpoint\n",
    "from scikeras.wrappers import KerasClassifier  # Use scikeras for scikit-learn compatibility\n",
    "from math import floor\n",
    "from bayes_opt import BayesianOptimization\n",
    "from tensorflow.keras.layers import LeakyReLU  # Use tensorflow.keras instead of keras\n",
    "LeakyReLU = LeakyReLU(negative_slope=0.1)\n",
    "import warnings"
   ]
  },
  {
   "cell_type": "code",
   "execution_count": 2,
   "id": "0a3c6e2e",
   "metadata": {},
   "outputs": [],
   "source": [
    "# Set option to ensure charts are displayed inline in the notebook\n",
    "%matplotlib inline"
   ]
  },
  {
   "cell_type": "markdown",
   "id": "ccafaec0",
   "metadata": {},
   "source": [
    "## 2. Import data"
   ]
  },
  {
   "cell_type": "code",
   "execution_count": 3,
   "id": "0e87f343",
   "metadata": {
    "scrolled": true
   },
   "outputs": [],
   "source": [
    "# Turn project folder path into a string\n",
    "path = r'C:\\Users\\Admin\\Desktop\\Data Analysis\\Maching Learning\\Climate_Win'"
   ]
  },
  {
   "cell_type": "code",
   "execution_count": 4,
   "id": "35414502",
   "metadata": {
    "scrolled": true
   },
   "outputs": [
    {
     "data": {
      "text/plain": [
       "'C:\\\\Users\\\\Admin\\\\Desktop\\\\Data Analysis\\\\Maching Learning\\\\Climate_Win'"
      ]
     },
     "execution_count": 4,
     "metadata": {},
     "output_type": "execute_result"
    }
   ],
   "source": [
    "path"
   ]
  },
  {
   "cell_type": "code",
   "execution_count": 5,
   "id": "f29f435b",
   "metadata": {
    "scrolled": true
   },
   "outputs": [],
   "source": [
    "# Import cleaned weather data\n",
    "df_cw = pd.read_csv(os.path.join(path, '02 Data', 'Prepared Data', 'climatewin_cleaned.csv'))"
   ]
  },
  {
   "cell_type": "code",
   "execution_count": 6,
   "id": "dacb060c",
   "metadata": {
    "scrolled": true
   },
   "outputs": [
    {
     "data": {
      "text/html": [
       "<div>\n",
       "<style scoped>\n",
       "    .dataframe tbody tr th:only-of-type {\n",
       "        vertical-align: middle;\n",
       "    }\n",
       "\n",
       "    .dataframe tbody tr th {\n",
       "        vertical-align: top;\n",
       "    }\n",
       "\n",
       "    .dataframe thead th {\n",
       "        text-align: right;\n",
       "    }\n",
       "</style>\n",
       "<table border=\"1\" class=\"dataframe\">\n",
       "  <thead>\n",
       "    <tr style=\"text-align: right;\">\n",
       "      <th></th>\n",
       "      <th>BASEL_cloud_cover</th>\n",
       "      <th>BASEL_global_radiation</th>\n",
       "      <th>BASEL_humidity</th>\n",
       "      <th>BASEL_precipitation</th>\n",
       "      <th>BASEL_pressure</th>\n",
       "      <th>BASEL_sunshine</th>\n",
       "      <th>BASEL_temp_max</th>\n",
       "      <th>BASEL_temp_mean</th>\n",
       "      <th>BASEL_temp_min</th>\n",
       "      <th>BELGRADE_cloud_cover</th>\n",
       "      <th>...</th>\n",
       "      <th>STOCKHOLM_temp_min</th>\n",
       "      <th>VALENTIA_cloud_cover</th>\n",
       "      <th>VALENTIA_global_radiation</th>\n",
       "      <th>VALENTIA_humidity</th>\n",
       "      <th>VALENTIA_precipitation</th>\n",
       "      <th>VALENTIA_pressure</th>\n",
       "      <th>VALENTIA_sunshine</th>\n",
       "      <th>VALENTIA_temp_max</th>\n",
       "      <th>VALENTIA_temp_mean</th>\n",
       "      <th>VALENTIA_temp_min</th>\n",
       "    </tr>\n",
       "  </thead>\n",
       "  <tbody>\n",
       "    <tr>\n",
       "      <th>0</th>\n",
       "      <td>7</td>\n",
       "      <td>0.32</td>\n",
       "      <td>0.85</td>\n",
       "      <td>0.09</td>\n",
       "      <td>1.018</td>\n",
       "      <td>0.7</td>\n",
       "      <td>10.9</td>\n",
       "      <td>6.5</td>\n",
       "      <td>0.8</td>\n",
       "      <td>1</td>\n",
       "      <td>...</td>\n",
       "      <td>2.2</td>\n",
       "      <td>5</td>\n",
       "      <td>0.45</td>\n",
       "      <td>0.88</td>\n",
       "      <td>0.34</td>\n",
       "      <td>1.0003</td>\n",
       "      <td>4.7</td>\n",
       "      <td>10.9</td>\n",
       "      <td>8.5</td>\n",
       "      <td>6.0</td>\n",
       "    </tr>\n",
       "    <tr>\n",
       "      <th>1</th>\n",
       "      <td>6</td>\n",
       "      <td>0.36</td>\n",
       "      <td>0.84</td>\n",
       "      <td>1.05</td>\n",
       "      <td>1.018</td>\n",
       "      <td>1.1</td>\n",
       "      <td>10.1</td>\n",
       "      <td>6.1</td>\n",
       "      <td>3.3</td>\n",
       "      <td>6</td>\n",
       "      <td>...</td>\n",
       "      <td>3.0</td>\n",
       "      <td>7</td>\n",
       "      <td>0.25</td>\n",
       "      <td>0.91</td>\n",
       "      <td>0.84</td>\n",
       "      <td>1.0007</td>\n",
       "      <td>0.7</td>\n",
       "      <td>12.1</td>\n",
       "      <td>8.9</td>\n",
       "      <td>5.6</td>\n",
       "    </tr>\n",
       "    <tr>\n",
       "      <th>2</th>\n",
       "      <td>8</td>\n",
       "      <td>0.18</td>\n",
       "      <td>0.90</td>\n",
       "      <td>0.30</td>\n",
       "      <td>1.018</td>\n",
       "      <td>0.0</td>\n",
       "      <td>9.9</td>\n",
       "      <td>8.5</td>\n",
       "      <td>5.1</td>\n",
       "      <td>6</td>\n",
       "      <td>...</td>\n",
       "      <td>1.3</td>\n",
       "      <td>7</td>\n",
       "      <td>0.17</td>\n",
       "      <td>0.91</td>\n",
       "      <td>0.08</td>\n",
       "      <td>1.0096</td>\n",
       "      <td>0.1</td>\n",
       "      <td>12.9</td>\n",
       "      <td>10.5</td>\n",
       "      <td>8.1</td>\n",
       "    </tr>\n",
       "    <tr>\n",
       "      <th>3</th>\n",
       "      <td>3</td>\n",
       "      <td>0.58</td>\n",
       "      <td>0.92</td>\n",
       "      <td>0.00</td>\n",
       "      <td>1.018</td>\n",
       "      <td>4.1</td>\n",
       "      <td>10.6</td>\n",
       "      <td>6.3</td>\n",
       "      <td>3.8</td>\n",
       "      <td>8</td>\n",
       "      <td>...</td>\n",
       "      <td>0.4</td>\n",
       "      <td>7</td>\n",
       "      <td>0.13</td>\n",
       "      <td>0.86</td>\n",
       "      <td>0.98</td>\n",
       "      <td>1.0184</td>\n",
       "      <td>0.0</td>\n",
       "      <td>10.6</td>\n",
       "      <td>7.4</td>\n",
       "      <td>7.3</td>\n",
       "    </tr>\n",
       "    <tr>\n",
       "      <th>4</th>\n",
       "      <td>6</td>\n",
       "      <td>0.65</td>\n",
       "      <td>0.95</td>\n",
       "      <td>0.14</td>\n",
       "      <td>1.018</td>\n",
       "      <td>5.4</td>\n",
       "      <td>6.0</td>\n",
       "      <td>3.0</td>\n",
       "      <td>-0.7</td>\n",
       "      <td>8</td>\n",
       "      <td>...</td>\n",
       "      <td>0.8</td>\n",
       "      <td>3</td>\n",
       "      <td>0.46</td>\n",
       "      <td>0.80</td>\n",
       "      <td>0.00</td>\n",
       "      <td>1.0328</td>\n",
       "      <td>5.7</td>\n",
       "      <td>8.4</td>\n",
       "      <td>5.7</td>\n",
       "      <td>3.0</td>\n",
       "    </tr>\n",
       "  </tbody>\n",
       "</table>\n",
       "<p>5 rows × 135 columns</p>\n",
       "</div>"
      ],
      "text/plain": [
       "   BASEL_cloud_cover  BASEL_global_radiation  BASEL_humidity  \\\n",
       "0                  7                    0.32            0.85   \n",
       "1                  6                    0.36            0.84   \n",
       "2                  8                    0.18            0.90   \n",
       "3                  3                    0.58            0.92   \n",
       "4                  6                    0.65            0.95   \n",
       "\n",
       "   BASEL_precipitation  BASEL_pressure  BASEL_sunshine  BASEL_temp_max  \\\n",
       "0                 0.09           1.018             0.7            10.9   \n",
       "1                 1.05           1.018             1.1            10.1   \n",
       "2                 0.30           1.018             0.0             9.9   \n",
       "3                 0.00           1.018             4.1            10.6   \n",
       "4                 0.14           1.018             5.4             6.0   \n",
       "\n",
       "   BASEL_temp_mean  BASEL_temp_min  BELGRADE_cloud_cover  ...  \\\n",
       "0              6.5             0.8                     1  ...   \n",
       "1              6.1             3.3                     6  ...   \n",
       "2              8.5             5.1                     6  ...   \n",
       "3              6.3             3.8                     8  ...   \n",
       "4              3.0            -0.7                     8  ...   \n",
       "\n",
       "   STOCKHOLM_temp_min  VALENTIA_cloud_cover  VALENTIA_global_radiation  \\\n",
       "0                 2.2                     5                       0.45   \n",
       "1                 3.0                     7                       0.25   \n",
       "2                 1.3                     7                       0.17   \n",
       "3                 0.4                     7                       0.13   \n",
       "4                 0.8                     3                       0.46   \n",
       "\n",
       "   VALENTIA_humidity  VALENTIA_precipitation  VALENTIA_pressure  \\\n",
       "0               0.88                    0.34             1.0003   \n",
       "1               0.91                    0.84             1.0007   \n",
       "2               0.91                    0.08             1.0096   \n",
       "3               0.86                    0.98             1.0184   \n",
       "4               0.80                    0.00             1.0328   \n",
       "\n",
       "   VALENTIA_sunshine  VALENTIA_temp_max  VALENTIA_temp_mean  VALENTIA_temp_min  \n",
       "0                4.7               10.9                 8.5                6.0  \n",
       "1                0.7               12.1                 8.9                5.6  \n",
       "2                0.1               12.9                10.5                8.1  \n",
       "3                0.0               10.6                 7.4                7.3  \n",
       "4                5.7                8.4                 5.7                3.0  \n",
       "\n",
       "[5 rows x 135 columns]"
      ]
     },
     "execution_count": 6,
     "metadata": {},
     "output_type": "execute_result"
    }
   ],
   "source": [
    "# Check output\n",
    "df_cw.head()"
   ]
  },
  {
   "cell_type": "code",
   "execution_count": 7,
   "id": "c06dc5d2",
   "metadata": {
    "scrolled": true
   },
   "outputs": [
    {
     "data": {
      "text/plain": [
       "(22950, 135)"
      ]
     },
     "execution_count": 7,
     "metadata": {},
     "output_type": "execute_result"
    }
   ],
   "source": [
    "# Check shape\n",
    "df_cw.shape"
   ]
  },
  {
   "cell_type": "code",
   "execution_count": 8,
   "id": "1ec251a0",
   "metadata": {
    "scrolled": true
   },
   "outputs": [],
   "source": [
    "# Import climatewin prediction data\n",
    "df_cw_pred = pd.read_csv(os.path.join(path, '02 Data', 'Prepared Data', 'climatewin_answers_cleaned.csv'))"
   ]
  },
  {
   "cell_type": "code",
   "execution_count": 9,
   "id": "38f8747b",
   "metadata": {
    "scrolled": false
   },
   "outputs": [
    {
     "data": {
      "text/html": [
       "<div>\n",
       "<style scoped>\n",
       "    .dataframe tbody tr th:only-of-type {\n",
       "        vertical-align: middle;\n",
       "    }\n",
       "\n",
       "    .dataframe tbody tr th {\n",
       "        vertical-align: top;\n",
       "    }\n",
       "\n",
       "    .dataframe thead th {\n",
       "        text-align: right;\n",
       "    }\n",
       "</style>\n",
       "<table border=\"1\" class=\"dataframe\">\n",
       "  <thead>\n",
       "    <tr style=\"text-align: right;\">\n",
       "      <th></th>\n",
       "      <th>BASEL_pleasant_weather</th>\n",
       "      <th>BELGRADE_pleasant_weather</th>\n",
       "      <th>BUDAPEST_pleasant_weather</th>\n",
       "      <th>DEBILT_pleasant_weather</th>\n",
       "      <th>DUSSELDORF_pleasant_weather</th>\n",
       "      <th>HEATHROW_pleasant_weather</th>\n",
       "      <th>KASSEL_pleasant_weather</th>\n",
       "      <th>LJUBLJANA_pleasant_weather</th>\n",
       "      <th>MAASTRICHT_pleasant_weather</th>\n",
       "      <th>MADRID_pleasant_weather</th>\n",
       "      <th>MUNCHENB_pleasant_weather</th>\n",
       "      <th>OSLO_pleasant_weather</th>\n",
       "      <th>SONNBLICK_pleasant_weather</th>\n",
       "      <th>STOCKHOLM_pleasant_weather</th>\n",
       "      <th>VALENTIA_pleasant_weather</th>\n",
       "    </tr>\n",
       "  </thead>\n",
       "  <tbody>\n",
       "    <tr>\n",
       "      <th>0</th>\n",
       "      <td>0</td>\n",
       "      <td>0</td>\n",
       "      <td>0</td>\n",
       "      <td>0</td>\n",
       "      <td>0</td>\n",
       "      <td>0</td>\n",
       "      <td>0</td>\n",
       "      <td>0</td>\n",
       "      <td>0</td>\n",
       "      <td>0</td>\n",
       "      <td>0</td>\n",
       "      <td>0</td>\n",
       "      <td>0</td>\n",
       "      <td>0</td>\n",
       "      <td>0</td>\n",
       "    </tr>\n",
       "    <tr>\n",
       "      <th>1</th>\n",
       "      <td>0</td>\n",
       "      <td>0</td>\n",
       "      <td>0</td>\n",
       "      <td>0</td>\n",
       "      <td>0</td>\n",
       "      <td>0</td>\n",
       "      <td>0</td>\n",
       "      <td>0</td>\n",
       "      <td>0</td>\n",
       "      <td>0</td>\n",
       "      <td>0</td>\n",
       "      <td>0</td>\n",
       "      <td>0</td>\n",
       "      <td>0</td>\n",
       "      <td>0</td>\n",
       "    </tr>\n",
       "    <tr>\n",
       "      <th>2</th>\n",
       "      <td>0</td>\n",
       "      <td>0</td>\n",
       "      <td>0</td>\n",
       "      <td>0</td>\n",
       "      <td>0</td>\n",
       "      <td>0</td>\n",
       "      <td>0</td>\n",
       "      <td>0</td>\n",
       "      <td>0</td>\n",
       "      <td>0</td>\n",
       "      <td>0</td>\n",
       "      <td>0</td>\n",
       "      <td>0</td>\n",
       "      <td>0</td>\n",
       "      <td>0</td>\n",
       "    </tr>\n",
       "    <tr>\n",
       "      <th>3</th>\n",
       "      <td>0</td>\n",
       "      <td>0</td>\n",
       "      <td>0</td>\n",
       "      <td>0</td>\n",
       "      <td>0</td>\n",
       "      <td>0</td>\n",
       "      <td>0</td>\n",
       "      <td>0</td>\n",
       "      <td>0</td>\n",
       "      <td>0</td>\n",
       "      <td>0</td>\n",
       "      <td>0</td>\n",
       "      <td>0</td>\n",
       "      <td>0</td>\n",
       "      <td>0</td>\n",
       "    </tr>\n",
       "    <tr>\n",
       "      <th>4</th>\n",
       "      <td>0</td>\n",
       "      <td>0</td>\n",
       "      <td>0</td>\n",
       "      <td>0</td>\n",
       "      <td>0</td>\n",
       "      <td>0</td>\n",
       "      <td>0</td>\n",
       "      <td>0</td>\n",
       "      <td>0</td>\n",
       "      <td>0</td>\n",
       "      <td>0</td>\n",
       "      <td>0</td>\n",
       "      <td>0</td>\n",
       "      <td>0</td>\n",
       "      <td>0</td>\n",
       "    </tr>\n",
       "  </tbody>\n",
       "</table>\n",
       "</div>"
      ],
      "text/plain": [
       "   BASEL_pleasant_weather  BELGRADE_pleasant_weather  \\\n",
       "0                       0                          0   \n",
       "1                       0                          0   \n",
       "2                       0                          0   \n",
       "3                       0                          0   \n",
       "4                       0                          0   \n",
       "\n",
       "   BUDAPEST_pleasant_weather  DEBILT_pleasant_weather  \\\n",
       "0                          0                        0   \n",
       "1                          0                        0   \n",
       "2                          0                        0   \n",
       "3                          0                        0   \n",
       "4                          0                        0   \n",
       "\n",
       "   DUSSELDORF_pleasant_weather  HEATHROW_pleasant_weather  \\\n",
       "0                            0                          0   \n",
       "1                            0                          0   \n",
       "2                            0                          0   \n",
       "3                            0                          0   \n",
       "4                            0                          0   \n",
       "\n",
       "   KASSEL_pleasant_weather  LJUBLJANA_pleasant_weather  \\\n",
       "0                        0                           0   \n",
       "1                        0                           0   \n",
       "2                        0                           0   \n",
       "3                        0                           0   \n",
       "4                        0                           0   \n",
       "\n",
       "   MAASTRICHT_pleasant_weather  MADRID_pleasant_weather  \\\n",
       "0                            0                        0   \n",
       "1                            0                        0   \n",
       "2                            0                        0   \n",
       "3                            0                        0   \n",
       "4                            0                        0   \n",
       "\n",
       "   MUNCHENB_pleasant_weather  OSLO_pleasant_weather  \\\n",
       "0                          0                      0   \n",
       "1                          0                      0   \n",
       "2                          0                      0   \n",
       "3                          0                      0   \n",
       "4                          0                      0   \n",
       "\n",
       "   SONNBLICK_pleasant_weather  STOCKHOLM_pleasant_weather  \\\n",
       "0                           0                           0   \n",
       "1                           0                           0   \n",
       "2                           0                           0   \n",
       "3                           0                           0   \n",
       "4                           0                           0   \n",
       "\n",
       "   VALENTIA_pleasant_weather  \n",
       "0                          0  \n",
       "1                          0  \n",
       "2                          0  \n",
       "3                          0  \n",
       "4                          0  "
      ]
     },
     "execution_count": 9,
     "metadata": {},
     "output_type": "execute_result"
    }
   ],
   "source": [
    "# Check output\n",
    "df_cw_pred.head()"
   ]
  },
  {
   "cell_type": "code",
   "execution_count": 10,
   "id": "cfb5eafa",
   "metadata": {
    "scrolled": false
   },
   "outputs": [
    {
     "data": {
      "text/plain": [
       "(22950, 15)"
      ]
     },
     "execution_count": 10,
     "metadata": {},
     "output_type": "execute_result"
    }
   ],
   "source": [
    "# Check shape\n",
    "df_cw_pred.shape"
   ]
  },
  {
   "cell_type": "markdown",
   "id": "3f6b4a4f",
   "metadata": {},
   "source": [
    "## 3. CNN data prep"
   ]
  },
  {
   "cell_type": "code",
   "execution_count": 11,
   "id": "af1457d0",
   "metadata": {},
   "outputs": [],
   "source": [
    "#Create an 'X' and 'y'matrix \n",
    "X = df_cw\n",
    "y = df_cw_pred"
   ]
  },
  {
   "cell_type": "code",
   "execution_count": 12,
   "id": "93f61939",
   "metadata": {},
   "outputs": [],
   "source": [
    "# Create array of 'X' and 'y'\n",
    "X = np.array(X)\n",
    "y = np.array(y)"
   ]
  },
  {
   "cell_type": "code",
   "execution_count": 13,
   "id": "b44aa9ff",
   "metadata": {},
   "outputs": [
    {
     "data": {
      "text/plain": [
       "array([[ 7.  ,  0.32,  0.85, ..., 10.9 ,  8.5 ,  6.  ],\n",
       "       [ 6.  ,  0.36,  0.84, ..., 12.1 ,  8.9 ,  5.6 ],\n",
       "       [ 8.  ,  0.18,  0.9 , ..., 12.9 , 10.5 ,  8.1 ],\n",
       "       ...,\n",
       "       [ 4.  ,  1.34,  0.76, ..., 13.5 , 10.7 ,  7.9 ],\n",
       "       [ 5.  ,  1.34,  0.8 , ..., 13.5 , 10.7 ,  7.9 ],\n",
       "       [ 5.  ,  1.34,  0.84, ..., 13.5 , 10.7 ,  7.9 ]])"
      ]
     },
     "execution_count": 13,
     "metadata": {},
     "output_type": "execute_result"
    }
   ],
   "source": [
    "X"
   ]
  },
  {
   "cell_type": "code",
   "execution_count": 14,
   "id": "73b421ec",
   "metadata": {},
   "outputs": [],
   "source": [
    "# Reshape 'X' for CNN\n",
    "X = X.reshape(-1, 15, 9)"
   ]
  },
  {
   "cell_type": "code",
   "execution_count": 15,
   "id": "037b42f9",
   "metadata": {},
   "outputs": [
    {
     "data": {
      "text/plain": [
       "array([[[  7.  ,   0.32,   0.85, ...,  10.9 ,   6.5 ,   0.8 ],\n",
       "        [  1.  ,   0.88,   0.81, ...,   7.9 ,   3.7 ,  -0.9 ],\n",
       "        [  4.  ,   0.44,   0.67, ...,   5.1 ,   2.4 ,  -0.4 ],\n",
       "        ...,\n",
       "        [  4.  ,   0.48,   0.73, ...,  -3.2 ,  -5.9 ,  -8.5 ],\n",
       "        [  5.  ,   0.05,   0.98, ...,   4.9 ,   4.2 ,   2.2 ],\n",
       "        [  5.  ,   0.45,   0.88, ...,  10.9 ,   8.5 ,   6.  ]],\n",
       "\n",
       "       [[  6.  ,   0.36,   0.84, ...,  10.1 ,   6.1 ,   3.3 ],\n",
       "        [  6.  ,   0.25,   0.84, ...,   4.4 ,   2.9 ,   2.2 ],\n",
       "        [  4.  ,   0.18,   0.67, ...,   3.1 ,   2.3 ,   1.4 ],\n",
       "        ...,\n",
       "        [  6.  ,   0.21,   0.97, ...,  -8.5 ,  -9.5 , -10.5 ],\n",
       "        [  5.  ,   0.05,   0.62, ...,   5.  ,   4.  ,   3.  ],\n",
       "        [  7.  ,   0.25,   0.91, ...,  12.1 ,   8.9 ,   5.6 ]],\n",
       "\n",
       "       [[  8.  ,   0.18,   0.9 , ...,   9.9 ,   8.5 ,   5.1 ],\n",
       "        [  6.  ,   0.67,   0.77, ...,   6.4 ,   3.1 ,  -0.5 ],\n",
       "        [  4.  ,   0.3 ,   0.67, ...,   5.3 ,   2.7 ,   1.7 ],\n",
       "        ...,\n",
       "        [  8.  ,   0.21,   0.93, ...,  -8.9 ,  -9.5 , -10.  ],\n",
       "        [  5.  ,   0.05,   0.69, ...,   4.1 ,   2.4 ,   1.3 ],\n",
       "        [  7.  ,   0.17,   0.91, ...,  12.9 ,  10.5 ,   8.1 ]],\n",
       "\n",
       "       ...,\n",
       "\n",
       "       [[  4.  ,   1.34,   0.76, ...,  22.4 ,  16.7 ,  13.1 ],\n",
       "        [  2.  ,   1.57,   0.68, ...,  18.2 ,  13.4 ,   8.6 ],\n",
       "        [  4.  ,   1.41,   0.67, ...,  16.2 ,  11.7 ,   7.9 ],\n",
       "        ...,\n",
       "        [  3.  ,   1.56,   0.84, ...,   4.5 ,   3.3 ,   2.1 ],\n",
       "        [  5.  ,   1.11,   0.85, ...,  14.4 ,  13.1 ,  12.1 ],\n",
       "        [  5.  ,   1.13,   0.82, ...,  13.5 ,  10.7 ,   7.9 ]],\n",
       "\n",
       "       [[  5.  ,   1.34,   0.8 , ...,  21.1 ,  15.4 ,  11.6 ],\n",
       "        [  1.  ,   1.57,   0.68, ...,  20.9 ,  15.  ,   9.1 ],\n",
       "        [  4.  ,   1.41,   0.67, ...,  16.2 ,  11.7 ,   7.9 ],\n",
       "        ...,\n",
       "        [  3.  ,   1.56,   0.84, ...,   4.1 ,   3.4 ,   2.7 ],\n",
       "        [  5.  ,   1.11,   0.94, ...,  12.4 ,   7.5 ,   5.1 ],\n",
       "        [  5.  ,   1.13,   0.82, ...,  13.5 ,  10.7 ,   7.9 ]],\n",
       "\n",
       "       [[  5.  ,   1.34,   0.84, ...,  19.2 ,  13.5 ,   9.9 ],\n",
       "        [  4.  ,   1.57,   0.68, ...,  18.4 ,  14.4 ,  10.4 ],\n",
       "        [  4.  ,   1.41,   0.67, ...,  16.2 ,  11.7 ,   7.9 ],\n",
       "        ...,\n",
       "        [  4.  ,   1.56,   0.84, ...,   2.7 ,   1.7 ,   0.7 ],\n",
       "        [  5.  ,   1.11,   0.97, ...,  12.6 ,   9.7 ,   5.  ],\n",
       "        [  5.  ,   1.13,   0.82, ...,  13.5 ,  10.7 ,   7.9 ]]])"
      ]
     },
     "execution_count": 15,
     "metadata": {},
     "output_type": "execute_result"
    }
   ],
   "source": [
    "# Check Reshape output\n",
    "X"
   ]
  },
  {
   "cell_type": "code",
   "execution_count": 16,
   "id": "7e792f68",
   "metadata": {},
   "outputs": [
    {
     "data": {
      "text/plain": [
       "(22950, 15, 9)"
      ]
     },
     "execution_count": 16,
     "metadata": {},
     "output_type": "execute_result"
    }
   ],
   "source": [
    "# Check 'X' shape\n",
    "X.shape"
   ]
  },
  {
   "cell_type": "code",
   "execution_count": 18,
   "id": "2c4a3748",
   "metadata": {
    "scrolled": true
   },
   "outputs": [
    {
     "data": {
      "text/plain": [
       "array([[0, 0, 0, ..., 0, 0, 0],\n",
       "       [0, 0, 0, ..., 0, 0, 0],\n",
       "       [0, 0, 0, ..., 0, 0, 0],\n",
       "       ...,\n",
       "       [0, 0, 0, ..., 0, 0, 0],\n",
       "       [0, 0, 0, ..., 0, 0, 0],\n",
       "       [0, 0, 0, ..., 0, 0, 0]], dtype=int64)"
      ]
     },
     "execution_count": 18,
     "metadata": {},
     "output_type": "execute_result"
    }
   ],
   "source": [
    "# Check 'y' output\n",
    "y"
   ]
  },
  {
   "cell_type": "code",
   "execution_count": 19,
   "id": "c46fd25f",
   "metadata": {},
   "outputs": [
    {
     "name": "stdout",
     "output_type": "stream",
     "text": [
      "y shape after argmax: (22950,)\n"
     ]
    }
   ],
   "source": [
    "# Reshape y from one-hot encoding to numerical value\n",
    "y =  np.argmax(y, axis = 1)\n",
    "print(\"y shape after argmax:\", y.shape)"
   ]
  },
  {
   "cell_type": "code",
   "execution_count": 20,
   "id": "0b4e4436",
   "metadata": {},
   "outputs": [
    {
     "name": "stdout",
     "output_type": "stream",
     "text": [
      "Unique values in y: [ 0  1  2  3  4  5  6  7  8  9 10 11 13 14]\n"
     ]
    }
   ],
   "source": [
    "# Check unique values in y to ensure it's correct\n",
    "print(\"Unique values in y:\", np.unique(y))"
   ]
  },
  {
   "cell_type": "code",
   "execution_count": 22,
   "id": "1e008354",
   "metadata": {},
   "outputs": [
    {
     "data": {
      "text/plain": [
       "'multiclass'"
      ]
     },
     "execution_count": 22,
     "metadata": {},
     "output_type": "execute_result"
    }
   ],
   "source": [
    "# Check class of y\n",
    "from sklearn.utils.multiclass import type_of_target\n",
    "type_of_target(y)"
   ]
  },
  {
   "cell_type": "code",
   "execution_count": 26,
   "id": "8087ad06",
   "metadata": {},
   "outputs": [
    {
     "name": "stdout",
     "output_type": "stream",
     "text": [
      "(22950, 15, 9)\n",
      "(22950,)\n"
     ]
    }
   ],
   "source": [
    "# Check shape for x and y\n",
    "print(X.shape)\n",
    "print(y.shape)"
   ]
  },
  {
   "cell_type": "code",
   "execution_count": 24,
   "id": "6bafa01c",
   "metadata": {},
   "outputs": [],
   "source": [
    "#Split data into training and testing sets.\n",
    "X_train, X_test, y_train, y_test = train_test_split(X,y,test_size=0.2)"
   ]
  },
  {
   "cell_type": "code",
   "execution_count": 25,
   "id": "f6f93b63",
   "metadata": {},
   "outputs": [
    {
     "name": "stdout",
     "output_type": "stream",
     "text": [
      "(18360, 15, 9) (18360,)\n",
      "(4590, 15, 9) (4590,)\n"
     ]
    }
   ],
   "source": [
    "# Check training and testing shape\n",
    "print(X_train.shape, y_train.shape)\n",
    "print(X_test.shape, y_test.shape)"
   ]
  },
  {
   "cell_type": "markdown",
   "id": "ce085bd0",
   "metadata": {},
   "source": [
    "## 4. Bayesian Hyperparameter Optimization"
   ]
  },
  {
   "cell_type": "code",
   "execution_count": 28,
   "id": "4c4e79d8",
   "metadata": {},
   "outputs": [],
   "source": [
    "# Determine the number of time steps for the input data\n",
    "timesteps = X_train.shape[1]\n",
    "\n",
    "# Determine the dimensionality of the input data\n",
    "input_dim = X_train.shape[2]\n",
    "\n",
    "# Specify the number of classes for the target variable\n",
    "n_classes = 15  #15 = Number of weather stations\n",
    "\n",
    "# Create a scorer for accuracy\n",
    "score_acc = make_scorer(accuracy_score)"
   ]
  },
  {
   "cell_type": "code",
   "execution_count": 29,
   "id": "aca87ec1",
   "metadata": {},
   "outputs": [],
   "source": [
    "# Create function\n",
    "def bay_area(neurons, activation, kernel, optimizer, learning_rate, batch_size, epochs, layers1, layers2, normalization, dropout, dropout_rate):\n",
    "    optimizerL = ['SGD', 'Adam', 'RMSprop', 'Adadelta', 'Adagrad', 'Adamax', 'Nadam', 'Ftrl', 'SGD']\n",
    "    activationL = ['relu', 'sigmoid', 'softplus', 'softsign', 'tanh', 'selu', 'elu', 'exponential', LeakyReLU, 'relu']\n",
    "    \n",
    "    neurons = round(neurons)\n",
    "    kernel = round(kernel)\n",
    "    activation = activationL[round(activation)]\n",
    "    optimizer_name = optimizerL[round(optimizer)]\n",
    "    batch_size = round(batch_size)\n",
    "    epochs = round(epochs)\n",
    "    layers1 = round(layers1)\n",
    "    layers2 = round(layers2)\n",
    "\n",
    "    def cnn_model():\n",
    "        model = Sequential()\n",
    "        model.add(Input(shape=(timesteps, input_dim)))\n",
    "        model.add(Conv1D(neurons, kernel_size=kernel, activation=activation))\n",
    "        if normalization > 0.5:\n",
    "            model.add(BatchNormalization())\n",
    "        for i in range(layers1):\n",
    "            model.add(Dense(neurons, activation=activation))\n",
    "        if dropout > 0.5:\n",
    "            model.add(Dropout(dropout_rate, seed=127))\n",
    "        for i in range(layers2):\n",
    "            model.add(Dense(neurons, activation=activation))\n",
    "        model.add(MaxPooling1D())\n",
    "        model.add(Flatten())\n",
    "        model.add(Dense(n_classes, activation='softmax'))  # sigmoid softmax\n",
    "        \n",
    "        # Create a new optimizer instance for each iteration\n",
    "        if optimizer_name == 'Adam':\n",
    "            optimizer_instance = Adam(learning_rate=learning_rate)\n",
    "        elif optimizer_name == 'SGD':\n",
    "            optimizer_instance = SGD(learning_rate=learning_rate)\n",
    "        elif optimizer_name == 'RMSprop':\n",
    "            optimizer_instance = RMSprop(learning_rate=learning_rate)\n",
    "        elif optimizer_name == 'Adadelta':\n",
    "            optimizer_instance = Adadelta(learning_rate=learning_rate)\n",
    "        elif optimizer_name == 'Adagrad':\n",
    "            optimizer_instance = Adagrad(learning_rate=learning_rate)\n",
    "        elif optimizer_name == 'Adamax':\n",
    "            optimizer_instance = Adamax(learning_rate=learning_rate)\n",
    "        elif optimizer_name == 'Nadam':\n",
    "            optimizer_instance = Nadam(learning_rate=learning_rate)\n",
    "        elif optimizer_name == 'Ftrl':\n",
    "            optimizer_instance = Ftrl(learning_rate=learning_rate)\n",
    "        \n",
    "        model.compile(loss='sparse_categorical_crossentropy', optimizer=optimizer_instance, metrics=['accuracy'])\n",
    "        return model\n",
    "\n",
    "    # K-fold cross-validation\n",
    "    es = EarlyStopping(monitor='accuracy', mode='max', verbose=1, patience=20)\n",
    "    kfold = StratifiedKFold(n_splits=5, shuffle=True, random_state=127)\n",
    "    results = []\n",
    "    for train, test in kfold.split(X, y):\n",
    "        model = cnn_model()\n",
    "        model.fit(X[train], y[train], epochs=epochs, batch_size=batch_size, verbose=0, callbacks=[es])\n",
    "        scores = model.evaluate(X[test], y[test], verbose=1)\n",
    "        results.append(scores[1])  # Assuming accuracy is the second metric\n",
    "    return np.mean(results)\n"
   ]
  },
  {
   "cell_type": "code",
   "execution_count": 30,
   "id": "85944d85",
   "metadata": {
    "scrolled": false
   },
   "outputs": [
    {
     "name": "stdout",
     "output_type": "stream",
     "text": [
      "|   iter    |  target   | activa... | batch_... |  dropout  | dropou... |  epochs   |  kernel   |  layers1  |  layers2  | learni... |  neurons  | normal... | optimizer |\n",
      "-------------------------------------------------------------------------------------------------------------------------------------------------------------------------\n",
      "Epoch 26: early stopping\n",
      "\u001b[1m144/144\u001b[0m \u001b[32m━━━━━━━━━━━━━━━━━━━━\u001b[0m\u001b[37m\u001b[0m \u001b[1m0s\u001b[0m 868us/step - accuracy: 0.2019 - loss: 113.9428\n",
      "Epoch 20: early stopping\n",
      "\u001b[1m144/144\u001b[0m \u001b[32m━━━━━━━━━━━━━━━━━━━━\u001b[0m\u001b[37m\u001b[0m \u001b[1m0s\u001b[0m 868us/step - accuracy: 0.1860 - loss: 177.5042\n",
      "Epoch 20: early stopping\n",
      "\u001b[1m144/144\u001b[0m \u001b[32m━━━━━━━━━━━━━━━━━━━━\u001b[0m\u001b[37m\u001b[0m \u001b[1m0s\u001b[0m 868us/step - accuracy: 0.6520 - loss: 98.0048\n",
      "Epoch 23: early stopping\n",
      "\u001b[1m144/144\u001b[0m \u001b[32m━━━━━━━━━━━━━━━━━━━━\u001b[0m\u001b[37m\u001b[0m \u001b[1m0s\u001b[0m 868us/step - accuracy: 0.6617 - loss: 77.9587\n",
      "Epoch 20: early stopping\n",
      "\u001b[1m144/144\u001b[0m \u001b[32m━━━━━━━━━━━━━━━━━━━━\u001b[0m\u001b[37m\u001b[0m \u001b[1m0s\u001b[0m 868us/step - accuracy: 0.6544 - loss: 75.9585\n",
      "| \u001b[0m1        \u001b[0m | \u001b[0m0.4634   \u001b[0m | \u001b[0m4.714    \u001b[0m | \u001b[0m232.0    \u001b[0m | \u001b[0m0.186    \u001b[0m | \u001b[0m0.4546   \u001b[0m | \u001b[0m64.17    \u001b[0m | \u001b[0m1.173    \u001b[0m | \u001b[0m1.883    \u001b[0m | \u001b[0m2.431    \u001b[0m | \u001b[0m0.6709   \u001b[0m | \u001b[0m52.56    \u001b[0m | \u001b[0m0.9062   \u001b[0m | \u001b[0m0.7344   \u001b[0m |\n",
      "Epoch 22: early stopping\n",
      "\u001b[1m144/144\u001b[0m \u001b[32m━━━━━━━━━━━━━━━━━━━━\u001b[0m\u001b[37m\u001b[0m \u001b[1m0s\u001b[0m 938us/step - accuracy: 0.6451 - loss: 1.1403\n",
      "Epoch 22: early stopping\n",
      "\u001b[1m144/144\u001b[0m \u001b[32m━━━━━━━━━━━━━━━━━━━━\u001b[0m\u001b[37m\u001b[0m \u001b[1m0s\u001b[0m 1ms/step - accuracy: 0.6552 - loss: nan \n",
      "Epoch 20: early stopping\n",
      "\u001b[1m144/144\u001b[0m \u001b[32m━━━━━━━━━━━━━━━━━━━━\u001b[0m\u001b[37m\u001b[0m \u001b[1m0s\u001b[0m 952us/step - accuracy: 0.6520 - loss: nan\n",
      "Epoch 20: early stopping\n",
      "\u001b[1m144/144\u001b[0m \u001b[32m━━━━━━━━━━━━━━━━━━━━\u001b[0m\u001b[37m\u001b[0m \u001b[1m0s\u001b[0m 1ms/step - accuracy: 0.6617 - loss: nan \n",
      "Epoch 20: early stopping\n",
      "\u001b[1m144/144\u001b[0m \u001b[32m━━━━━━━━━━━━━━━━━━━━\u001b[0m\u001b[37m\u001b[0m \u001b[1m0s\u001b[0m 945us/step - accuracy: 0.6544 - loss: nan\n",
      "| \u001b[95m2        \u001b[0m | \u001b[95m0.6434   \u001b[0m | \u001b[95m1.573    \u001b[0m | \u001b[95m271.1    \u001b[0m | \u001b[95m0.6497   \u001b[0m | \u001b[95m0.3143   \u001b[0m | \u001b[95m56.8     \u001b[0m | \u001b[95m2.813    \u001b[0m | \u001b[95m1.188    \u001b[0m | \u001b[95m2.266    \u001b[0m | \u001b[95m0.2669   \u001b[0m | \u001b[95m92.48    \u001b[0m | \u001b[95m0.1275   \u001b[0m | \u001b[95m0.4802   \u001b[0m |\n",
      "Epoch 24: early stopping\n",
      "\u001b[1m144/144\u001b[0m \u001b[32m━━━━━━━━━━━━━━━━━━━━\u001b[0m\u001b[37m\u001b[0m \u001b[1m0s\u001b[0m 994us/step - accuracy: 0.6451 - loss: 3.0209\n",
      "Epoch 28: early stopping\n",
      "\u001b[1m144/144\u001b[0m \u001b[32m━━━━━━━━━━━━━━━━━━━━\u001b[0m\u001b[37m\u001b[0m \u001b[1m0s\u001b[0m 987us/step - accuracy: 0.1860 - loss: 6.4458\n",
      "Epoch 20: early stopping\n",
      "\u001b[1m144/144\u001b[0m \u001b[32m━━━━━━━━━━━━━━━━━━━━\u001b[0m\u001b[37m\u001b[0m \u001b[1m0s\u001b[0m 994us/step - accuracy: 0.6520 - loss: 5.6043\n",
      "Epoch 20: early stopping\n",
      "\u001b[1m144/144\u001b[0m \u001b[32m━━━━━━━━━━━━━━━━━━━━\u001b[0m\u001b[37m\u001b[0m \u001b[1m0s\u001b[0m 980us/step - accuracy: 0.6617 - loss: 119.5302\n",
      "Epoch 20: early stopping\n",
      "\u001b[1m144/144\u001b[0m \u001b[32m━━━━━━━━━━━━━━━━━━━━\u001b[0m\u001b[37m\u001b[0m \u001b[1m0s\u001b[0m 987us/step - accuracy: 0.6544 - loss: 1.1715\n",
      "| \u001b[0m3        \u001b[0m | \u001b[0m0.5534   \u001b[0m | \u001b[0m6.052    \u001b[0m | \u001b[0m361.9    \u001b[0m | \u001b[0m0.4819   \u001b[0m | \u001b[0m0.3475   \u001b[0m | \u001b[0m83.42    \u001b[0m | \u001b[0m1.691    \u001b[0m | \u001b[0m2.908    \u001b[0m | \u001b[0m2.201    \u001b[0m | \u001b[0m0.3927   \u001b[0m | \u001b[0m67.47    \u001b[0m | \u001b[0m0.8815   \u001b[0m | \u001b[0m1.416    \u001b[0m |\n",
      "Epoch 42: early stopping\n",
      "\u001b[1m144/144\u001b[0m \u001b[32m━━━━━━━━━━━━━━━━━━━━\u001b[0m\u001b[37m\u001b[0m \u001b[1m0s\u001b[0m 770us/step - accuracy: 0.6435 - loss: 1.1485\n",
      "Epoch 20: early stopping\n",
      "\u001b[1m144/144\u001b[0m \u001b[32m━━━━━━━━━━━━━━━━━━━━\u001b[0m\u001b[37m\u001b[0m \u001b[1m0s\u001b[0m 742us/step - accuracy: 0.5036 - loss: 2.7266\n",
      "\u001b[1m144/144\u001b[0m \u001b[32m━━━━━━━━━━━━━━━━━━━━\u001b[0m\u001b[37m\u001b[0m \u001b[1m0s\u001b[0m 756us/step - accuracy: 0.6261 - loss: 1.0885\n",
      "Epoch 20: early stopping\n",
      "\u001b[1m144/144\u001b[0m \u001b[32m━━━━━━━━━━━━━━━━━━━━\u001b[0m\u001b[37m\u001b[0m \u001b[1m0s\u001b[0m 728us/step - accuracy: 0.6617 - loss: 4.6338\n",
      "Epoch 20: early stopping\n",
      "\u001b[1m144/144\u001b[0m \u001b[32m━━━━━━━━━━━━━━━━━━━━\u001b[0m\u001b[37m\u001b[0m \u001b[1m0s\u001b[0m 784us/step - accuracy: 0.6544 - loss: 1.3057\n",
      "| \u001b[0m4        \u001b[0m | \u001b[0m0.6049   \u001b[0m | \u001b[0m5.379    \u001b[0m | \u001b[0m539.7    \u001b[0m | \u001b[0m0.201    \u001b[0m | \u001b[0m0.3324   \u001b[0m | \u001b[0m58.97    \u001b[0m | \u001b[0m1.07     \u001b[0m | \u001b[0m1.821    \u001b[0m | \u001b[0m2.718    \u001b[0m | \u001b[0m0.3971   \u001b[0m | \u001b[0m31.79    \u001b[0m | \u001b[0m0.9366   \u001b[0m | \u001b[0m5.283    \u001b[0m |\n",
      "Epoch 23: early stopping\n",
      "\u001b[1m144/144\u001b[0m \u001b[32m━━━━━━━━━━━━━━━━━━━━\u001b[0m\u001b[37m\u001b[0m \u001b[1m0s\u001b[0m 882us/step - accuracy: 0.6451 - loss: 1.1816\n",
      "Epoch 24: early stopping\n",
      "\u001b[1m144/144\u001b[0m \u001b[32m━━━━━━━━━━━━━━━━━━━━\u001b[0m\u001b[37m\u001b[0m \u001b[1m0s\u001b[0m 854us/step - accuracy: 0.6552 - loss: 1.2134\n",
      "Epoch 20: early stopping\n",
      "\u001b[1m144/144\u001b[0m \u001b[32m━━━━━━━━━━━━━━━━━━━━\u001b[0m\u001b[37m\u001b[0m \u001b[1m0s\u001b[0m 896us/step - accuracy: 0.6520 - loss: 1.2346\n",
      "Epoch 20: early stopping\n",
      "\u001b[1m144/144\u001b[0m \u001b[32m━━━━━━━━━━━━━━━━━━━━\u001b[0m\u001b[37m\u001b[0m \u001b[1m0s\u001b[0m 854us/step - accuracy: 0.6617 - loss: 1.1484\n",
      "Epoch 20: early stopping\n",
      "\u001b[1m144/144\u001b[0m \u001b[32m━━━━━━━━━━━━━━━━━━━━\u001b[0m\u001b[37m\u001b[0m \u001b[1m0s\u001b[0m 854us/step - accuracy: 0.6544 - loss: 1.2080\n",
      "| \u001b[0m5        \u001b[0m | \u001b[0m0.6434   \u001b[0m | \u001b[0m8.951    \u001b[0m | \u001b[0m292.0    \u001b[0m | \u001b[0m0.1595   \u001b[0m | \u001b[0m0.4401   \u001b[0m | \u001b[0m61.92    \u001b[0m | \u001b[0m1.349    \u001b[0m | \u001b[0m1.874    \u001b[0m | \u001b[0m2.395    \u001b[0m | \u001b[0m0.5142   \u001b[0m | \u001b[0m74.0     \u001b[0m | \u001b[0m0.2923   \u001b[0m | \u001b[0m2.465    \u001b[0m |\n",
      "\u001b[1m144/144\u001b[0m \u001b[32m━━━━━━━━━━━━━━━━━━━━\u001b[0m\u001b[37m\u001b[0m \u001b[1m0s\u001b[0m 700us/step - accuracy: 0.7422 - loss: 0.7519\n",
      "Epoch 20: early stopping\n",
      "\u001b[1m144/144\u001b[0m \u001b[32m━━━━━━━━━━━━━━━━━━━━\u001b[0m\u001b[37m\u001b[0m \u001b[1m0s\u001b[0m 686us/step - accuracy: 0.6495 - loss: 1.1839\n",
      "Epoch 20: early stopping\n",
      "\u001b[1m144/144\u001b[0m \u001b[32m━━━━━━━━━━━━━━━━━━━━\u001b[0m\u001b[37m\u001b[0m \u001b[1m0s\u001b[0m 749us/step - accuracy: 0.7916 - loss: 0.5958\n",
      "Epoch 20: early stopping\n",
      "\u001b[1m144/144\u001b[0m \u001b[32m━━━━━━━━━━━━━━━━━━━━\u001b[0m\u001b[37m\u001b[0m \u001b[1m0s\u001b[0m 819us/step - accuracy: 0.7103 - loss: 0.8872\n",
      "Epoch 20: early stopping\n",
      "\u001b[1m144/144\u001b[0m \u001b[32m━━━━━━━━━━━━━━━━━━━━\u001b[0m\u001b[37m\u001b[0m \u001b[1m0s\u001b[0m 754us/step - accuracy: 0.8179 - loss: 0.5999\n",
      "| \u001b[95m6        \u001b[0m | \u001b[95m0.7296   \u001b[0m | \u001b[95m2.783    \u001b[0m | \u001b[95m778.9    \u001b[0m | \u001b[95m0.1646   \u001b[0m | \u001b[95m0.3458   \u001b[0m | \u001b[95m31.58    \u001b[0m | \u001b[95m1.392    \u001b[0m | \u001b[95m2.01     \u001b[0m | \u001b[95m1.545    \u001b[0m | \u001b[95m0.2438   \u001b[0m | \u001b[95m41.07    \u001b[0m | \u001b[95m0.9895   \u001b[0m | \u001b[95m4.893    \u001b[0m |\n",
      "\u001b[1m144/144\u001b[0m \u001b[32m━━━━━━━━━━━━━━━━━━━━\u001b[0m\u001b[37m\u001b[0m \u001b[1m0s\u001b[0m 635us/step - accuracy: 0.8789 - loss: 0.3314\n",
      "Epoch 20: early stopping\n",
      "\u001b[1m144/144\u001b[0m \u001b[32m━━━━━━━━━━━━━━━━━━━━\u001b[0m\u001b[37m\u001b[0m \u001b[1m0s\u001b[0m 616us/step - accuracy: 0.7623 - loss: 0.6846\n",
      "Epoch 20: early stopping\n",
      "\u001b[1m144/144\u001b[0m \u001b[32m━━━━━━━━━━━━━━━━━━━━\u001b[0m\u001b[37m\u001b[0m \u001b[1m0s\u001b[0m 609us/step - accuracy: 0.7733 - loss: 0.6641\n",
      "Epoch 20: early stopping\n",
      "\u001b[1m144/144\u001b[0m \u001b[32m━━━━━━━━━━━━━━━━━━━━\u001b[0m\u001b[37m\u001b[0m \u001b[1m0s\u001b[0m 616us/step - accuracy: 0.7481 - loss: 0.6870\n",
      "Epoch 20: early stopping\n",
      "\u001b[1m144/144\u001b[0m \u001b[32m━━━━━━━━━━━━━━━━━━━━\u001b[0m\u001b[37m\u001b[0m \u001b[1m0s\u001b[0m 614us/step - accuracy: 0.7794 - loss: 0.6534\n",
      "| \u001b[95m7        \u001b[0m | \u001b[95m0.7847   \u001b[0m | \u001b[95m4.522    \u001b[0m | \u001b[95m744.1    \u001b[0m | \u001b[95m0.9174   \u001b[0m | \u001b[95m0.4632   \u001b[0m | \u001b[95m96.58    \u001b[0m | \u001b[95m2.627    \u001b[0m | \u001b[95m1.598    \u001b[0m | \u001b[95m1.644    \u001b[0m | \u001b[95m0.677    \u001b[0m | \u001b[95m14.0     \u001b[0m | \u001b[95m0.7135   \u001b[0m | \u001b[95m3.301    \u001b[0m |\n",
      "Epoch 25: early stopping\n",
      "\u001b[1m144/144\u001b[0m \u001b[32m━━━━━━━━━━━━━━━━━━━━\u001b[0m\u001b[37m\u001b[0m \u001b[1m0s\u001b[0m 1ms/step - accuracy: 0.6451 - loss: 229.6617\n",
      "Epoch 22: early stopping\n",
      "\u001b[1m144/144\u001b[0m \u001b[32m━━━━━━━━━━━━━━━━━━━━\u001b[0m\u001b[37m\u001b[0m \u001b[1m0s\u001b[0m 1ms/step - accuracy: 0.1860 - loss: 361636.9688\n",
      "Epoch 26: early stopping\n",
      "\u001b[1m144/144\u001b[0m \u001b[32m━━━━━━━━━━━━━━━━━━━━\u001b[0m\u001b[37m\u001b[0m \u001b[1m0s\u001b[0m 1ms/step - accuracy: 0.0113 - loss: 469.5961   \n",
      "Epoch 20: early stopping\n",
      "\u001b[1m144/144\u001b[0m \u001b[32m━━━━━━━━━━━━━━━━━━━━\u001b[0m\u001b[37m\u001b[0m \u001b[1m0s\u001b[0m 1ms/step - accuracy: 0.6617 - loss: 414.8435\n",
      "Epoch 20: early stopping\n",
      "\u001b[1m144/144\u001b[0m \u001b[32m━━━━━━━━━━━━━━━━━━━━\u001b[0m\u001b[37m\u001b[0m \u001b[1m0s\u001b[0m 1ms/step - accuracy: 0.1909 - loss: 446.4860\n",
      "| \u001b[0m8        \u001b[0m | \u001b[0m0.3376   \u001b[0m | \u001b[0m5.759    \u001b[0m | \u001b[0m605.0    \u001b[0m | \u001b[0m0.1657   \u001b[0m | \u001b[0m0.3829   \u001b[0m | \u001b[0m90.37    \u001b[0m | \u001b[0m2.722    \u001b[0m | \u001b[0m1.829    \u001b[0m | \u001b[0m2.336    \u001b[0m | \u001b[0m0.757    \u001b[0m | \u001b[0m82.59    \u001b[0m | \u001b[0m0.674    \u001b[0m | \u001b[0m2.146    \u001b[0m |\n",
      "Epoch 22: early stopping\n",
      "\u001b[1m144/144\u001b[0m \u001b[32m━━━━━━━━━━━━━━━━━━━━\u001b[0m\u001b[37m\u001b[0m \u001b[1m0s\u001b[0m 1ms/step - accuracy: 0.6451 - loss: nan\n",
      "Epoch 22: early stopping\n"
     ]
    },
    {
     "name": "stdout",
     "output_type": "stream",
     "text": [
      "\u001b[1m144/144\u001b[0m \u001b[32m━━━━━━━━━━━━━━━━━━━━\u001b[0m\u001b[37m\u001b[0m \u001b[1m0s\u001b[0m 1ms/step - accuracy: 0.6552 - loss: 1.1419\n",
      "Epoch 20: early stopping\n",
      "\u001b[1m144/144\u001b[0m \u001b[32m━━━━━━━━━━━━━━━━━━━━\u001b[0m\u001b[37m\u001b[0m \u001b[1m0s\u001b[0m 1ms/step - accuracy: 0.6520 - loss: nan\n",
      "Epoch 20: early stopping\n",
      "\u001b[1m144/144\u001b[0m \u001b[32m━━━━━━━━━━━━━━━━━━━━\u001b[0m\u001b[37m\u001b[0m \u001b[1m0s\u001b[0m 1ms/step - accuracy: 0.6617 - loss: 1.1226\n",
      "Epoch 20: early stopping\n",
      "\u001b[1m144/144\u001b[0m \u001b[32m━━━━━━━━━━━━━━━━━━━━\u001b[0m\u001b[37m\u001b[0m \u001b[1m0s\u001b[0m 1ms/step - accuracy: 0.6544 - loss: 1.1302\n",
      "| \u001b[0m9        \u001b[0m | \u001b[0m0.6434   \u001b[0m | \u001b[0m1.71     \u001b[0m | \u001b[0m383.0    \u001b[0m | \u001b[0m0.1859   \u001b[0m | \u001b[0m0.3541   \u001b[0m | \u001b[0m79.76    \u001b[0m | \u001b[0m1.194    \u001b[0m | \u001b[0m1.526    \u001b[0m | \u001b[0m2.075    \u001b[0m | \u001b[0m0.9041   \u001b[0m | \u001b[0m84.38    \u001b[0m | \u001b[0m0.8003   \u001b[0m | \u001b[0m0.09905  \u001b[0m |\n",
      "Epoch 29: early stopping\n",
      "\u001b[1m144/144\u001b[0m \u001b[32m━━━━━━━━━━━━━━━━━━━━\u001b[0m\u001b[37m\u001b[0m \u001b[1m0s\u001b[0m 735us/step - accuracy: 0.6451 - loss: 1.2960\n",
      "Epoch 33: early stopping\n",
      "\u001b[1m144/144\u001b[0m \u001b[32m━━━━━━━━━━━━━━━━━━━━\u001b[0m\u001b[37m\u001b[0m \u001b[1m0s\u001b[0m 700us/step - accuracy: 0.1860 - loss: 1.4259\n",
      "Epoch 20: early stopping\n",
      "\u001b[1m144/144\u001b[0m \u001b[32m━━━━━━━━━━━━━━━━━━━━\u001b[0m\u001b[37m\u001b[0m \u001b[1m0s\u001b[0m 761us/step - accuracy: 0.6520 - loss: 1.1884\n",
      "Epoch 20: early stopping\n",
      "\u001b[1m144/144\u001b[0m \u001b[32m━━━━━━━━━━━━━━━━━━━━\u001b[0m\u001b[37m\u001b[0m \u001b[1m0s\u001b[0m 714us/step - accuracy: 0.6617 - loss: 1.1721\n",
      "Epoch 20: early stopping\n",
      "\u001b[1m144/144\u001b[0m \u001b[32m━━━━━━━━━━━━━━━━━━━━\u001b[0m\u001b[37m\u001b[0m \u001b[1m0s\u001b[0m 777us/step - accuracy: 0.6544 - loss: 1.1995\n",
      "| \u001b[0m10       \u001b[0m | \u001b[0m0.5534   \u001b[0m | \u001b[0m8.678    \u001b[0m | \u001b[0m869.4    \u001b[0m | \u001b[0m0.6053   \u001b[0m | \u001b[0m0.3531   \u001b[0m | \u001b[0m71.57    \u001b[0m | \u001b[0m2.462    \u001b[0m | \u001b[0m1.09     \u001b[0m | \u001b[0m2.968    \u001b[0m | \u001b[0m0.9803   \u001b[0m | \u001b[0m46.71    \u001b[0m | \u001b[0m0.6235   \u001b[0m | \u001b[0m2.347    \u001b[0m |\n",
      "Epoch 22: early stopping\n",
      "\u001b[1m144/144\u001b[0m \u001b[32m━━━━━━━━━━━━━━━━━━━━\u001b[0m\u001b[37m\u001b[0m \u001b[1m0s\u001b[0m 763us/step - accuracy: 0.6451 - loss: 1.1488\n",
      "Epoch 22: early stopping\n",
      "\u001b[1m144/144\u001b[0m \u001b[32m━━━━━━━━━━━━━━━━━━━━\u001b[0m\u001b[37m\u001b[0m \u001b[1m0s\u001b[0m 760us/step - accuracy: 0.6552 - loss: 1.1414\n",
      "Epoch 20: early stopping\n",
      "\u001b[1m144/144\u001b[0m \u001b[32m━━━━━━━━━━━━━━━━━━━━\u001b[0m\u001b[37m\u001b[0m \u001b[1m0s\u001b[0m 768us/step - accuracy: 0.6520 - loss: 1.1547\n",
      "Epoch 20: early stopping\n",
      "\u001b[1m144/144\u001b[0m \u001b[32m━━━━━━━━━━━━━━━━━━━━\u001b[0m\u001b[37m\u001b[0m \u001b[1m0s\u001b[0m 769us/step - accuracy: 0.6617 - loss: 1.1446\n",
      "Epoch 20: early stopping\n",
      "\u001b[1m144/144\u001b[0m \u001b[32m━━━━━━━━━━━━━━━━━━━━\u001b[0m\u001b[37m\u001b[0m \u001b[1m0s\u001b[0m 764us/step - accuracy: 0.6544 - loss: 1.1662\n",
      "| \u001b[0m11       \u001b[0m | \u001b[0m0.6434   \u001b[0m | \u001b[0m1.267    \u001b[0m | \u001b[0m961.5    \u001b[0m | \u001b[0m0.8919   \u001b[0m | \u001b[0m0.4301   \u001b[0m | \u001b[0m81.52    \u001b[0m | \u001b[0m2.994    \u001b[0m | \u001b[0m2.373    \u001b[0m | \u001b[0m1.792    \u001b[0m | \u001b[0m0.05079  \u001b[0m | \u001b[0m45.2     \u001b[0m | \u001b[0m0.7669   \u001b[0m | \u001b[0m6.906    \u001b[0m |\n",
      "Epoch 29: early stopping\n",
      "\u001b[1m144/144\u001b[0m \u001b[32m━━━━━━━━━━━━━━━━━━━━\u001b[0m\u001b[37m\u001b[0m \u001b[1m0s\u001b[0m 637us/step - accuracy: 0.6394 - loss: 3991725.7500\n",
      "Epoch 20: early stopping\n",
      "\u001b[1m144/144\u001b[0m \u001b[32m━━━━━━━━━━━━━━━━━━━━\u001b[0m\u001b[37m\u001b[0m \u001b[1m0s\u001b[0m 667us/step - accuracy: 0.6485 - loss: 2044832.6250\n",
      "Epoch 36: early stopping\n",
      "\u001b[1m144/144\u001b[0m \u001b[32m━━━━━━━━━━━━━━━━━━━━\u001b[0m\u001b[37m\u001b[0m \u001b[1m0s\u001b[0m 623us/step - accuracy: 0.6829 - loss: 25355.8906\n",
      "Epoch 20: early stopping\n",
      "\u001b[1m144/144\u001b[0m \u001b[32m━━━━━━━━━━━━━━━━━━━━\u001b[0m\u001b[37m\u001b[0m \u001b[1m0s\u001b[0m 637us/step - accuracy: 0.6551 - loss: 8229959.5000\n",
      "Epoch 20: early stopping\n",
      "\u001b[1m144/144\u001b[0m \u001b[32m━━━━━━━━━━━━━━━━━━━━\u001b[0m\u001b[37m\u001b[0m \u001b[1m0s\u001b[0m 665us/step - accuracy: 0.6317 - loss: 104126.9297\n",
      "| \u001b[0m12       \u001b[0m | \u001b[0m0.6413   \u001b[0m | \u001b[0m7.83     \u001b[0m | \u001b[0m284.2    \u001b[0m | \u001b[0m0.2654   \u001b[0m | \u001b[0m0.4736   \u001b[0m | \u001b[0m97.1     \u001b[0m | \u001b[0m1.922    \u001b[0m | \u001b[0m1.464    \u001b[0m | \u001b[0m2.467    \u001b[0m | \u001b[0m0.9535   \u001b[0m | \u001b[0m44.37    \u001b[0m | \u001b[0m0.1684   \u001b[0m | \u001b[0m1.164    \u001b[0m |\n",
      "Epoch 48: early stopping\n",
      "\u001b[1m144/144\u001b[0m \u001b[32m━━━━━━━━━━━━━━━━━━━━\u001b[0m\u001b[37m\u001b[0m \u001b[1m0s\u001b[0m 693us/step - accuracy: 0.6451 - loss: 1.1411\n",
      "Epoch 22: early stopping\n",
      "\u001b[1m144/144\u001b[0m \u001b[32m━━━━━━━━━━━━━━━━━━━━\u001b[0m\u001b[37m\u001b[0m \u001b[1m0s\u001b[0m 726us/step - accuracy: 0.6552 - loss: 1.2539\n",
      "Epoch 20: early stopping\n",
      "\u001b[1m144/144\u001b[0m \u001b[32m━━━━━━━━━━━━━━━━━━━━\u001b[0m\u001b[37m\u001b[0m \u001b[1m0s\u001b[0m 672us/step - accuracy: 0.6520 - loss: 16.5294\n",
      "Epoch 20: early stopping\n",
      "\u001b[1m144/144\u001b[0m \u001b[32m━━━━━━━━━━━━━━━━━━━━\u001b[0m\u001b[37m\u001b[0m \u001b[1m0s\u001b[0m 677us/step - accuracy: 0.6617 - loss: 16.4040\n",
      "Epoch 20: early stopping\n",
      "\u001b[1m144/144\u001b[0m \u001b[32m━━━━━━━━━━━━━━━━━━━━\u001b[0m\u001b[37m\u001b[0m \u001b[1m0s\u001b[0m 679us/step - accuracy: 0.6544 - loss: 1.4772\n",
      "| \u001b[0m13       \u001b[0m | \u001b[0m0.6434   \u001b[0m | \u001b[0m5.513    \u001b[0m | \u001b[0m996.0    \u001b[0m | \u001b[0m0.9747   \u001b[0m | \u001b[0m0.3528   \u001b[0m | \u001b[0m96.45    \u001b[0m | \u001b[0m1.56     \u001b[0m | \u001b[0m1.62     \u001b[0m | \u001b[0m2.64     \u001b[0m | \u001b[0m0.9727   \u001b[0m | \u001b[0m19.0     \u001b[0m | \u001b[0m0.7042   \u001b[0m | \u001b[0m5.893    \u001b[0m |\n",
      "Epoch 22: early stopping\n",
      "\u001b[1m144/144\u001b[0m \u001b[32m━━━━━━━━━━━━━━━━━━━━\u001b[0m\u001b[37m\u001b[0m \u001b[1m0s\u001b[0m 1ms/step - accuracy: 0.6451 - loss: 1.1508\n",
      "Epoch 22: early stopping\n",
      "\u001b[1m144/144\u001b[0m \u001b[32m━━━━━━━━━━━━━━━━━━━━\u001b[0m\u001b[37m\u001b[0m \u001b[1m0s\u001b[0m 1ms/step - accuracy: 0.6552 - loss: 1.1450\n",
      "Epoch 20: early stopping\n",
      "\u001b[1m144/144\u001b[0m \u001b[32m━━━━━━━━━━━━━━━━━━━━\u001b[0m\u001b[37m\u001b[0m \u001b[1m0s\u001b[0m 1ms/step - accuracy: 0.6520 - loss: 1.1466\n",
      "Epoch 20: early stopping\n",
      "\u001b[1m144/144\u001b[0m \u001b[32m━━━━━━━━━━━━━━━━━━━━\u001b[0m\u001b[37m\u001b[0m \u001b[1m0s\u001b[0m 1ms/step - accuracy: 0.6617 - loss: 1.1246\n",
      "Epoch 20: early stopping\n",
      "\u001b[1m144/144\u001b[0m \u001b[32m━━━━━━━━━━━━━━━━━━━━\u001b[0m\u001b[37m\u001b[0m \u001b[1m0s\u001b[0m 1ms/step - accuracy: 0.6544 - loss: 1.1292\n",
      "| \u001b[0m14       \u001b[0m | \u001b[0m0.6434   \u001b[0m | \u001b[0m2.229    \u001b[0m | \u001b[0m222.4    \u001b[0m | \u001b[0m0.215    \u001b[0m | \u001b[0m0.4863   \u001b[0m | \u001b[0m95.6     \u001b[0m | \u001b[0m2.074    \u001b[0m | \u001b[0m1.007    \u001b[0m | \u001b[0m2.594    \u001b[0m | \u001b[0m0.2169   \u001b[0m | \u001b[0m85.73    \u001b[0m | \u001b[0m0.3766   \u001b[0m | \u001b[0m1.242    \u001b[0m |\n",
      "\u001b[1m144/144\u001b[0m \u001b[32m━━━━━━━━━━━━━━━━━━━━\u001b[0m\u001b[37m\u001b[0m \u001b[1m0s\u001b[0m 1ms/step - accuracy: 0.7942 - loss: 0.6005\n",
      "Epoch 20: early stopping\n",
      "\u001b[1m144/144\u001b[0m \u001b[32m━━━━━━━━━━━━━━━━━━━━\u001b[0m\u001b[37m\u001b[0m \u001b[1m0s\u001b[0m 1ms/step - accuracy: 0.7703 - loss: 0.6369\n",
      "Epoch 20: early stopping\n",
      "\u001b[1m144/144\u001b[0m \u001b[32m━━━━━━━━━━━━━━━━━━━━\u001b[0m\u001b[37m\u001b[0m \u001b[1m0s\u001b[0m 1ms/step - accuracy: 0.7650 - loss: 0.6455\n",
      "Epoch 20: early stopping\n",
      "\u001b[1m144/144\u001b[0m \u001b[32m━━━━━━━━━━━━━━━━━━━━\u001b[0m\u001b[37m\u001b[0m \u001b[1m0s\u001b[0m 1ms/step - accuracy: 0.7821 - loss: 0.6142\n",
      "Epoch 20: early stopping\n",
      "\u001b[1m144/144\u001b[0m \u001b[32m━━━━━━━━━━━━━━━━━━━━\u001b[0m\u001b[37m\u001b[0m \u001b[1m0s\u001b[0m 1ms/step - accuracy: 0.7883 - loss: 0.5905\n",
      "| \u001b[0m15       \u001b[0m | \u001b[0m0.7776   \u001b[0m | \u001b[0m3.8      \u001b[0m | \u001b[0m283.3    \u001b[0m | \u001b[0m0.7075   \u001b[0m | \u001b[0m0.4555   \u001b[0m | \u001b[0m34.66    \u001b[0m | \u001b[0m1.933    \u001b[0m | \u001b[0m2.556    \u001b[0m | \u001b[0m2.461    \u001b[0m | \u001b[0m0.05664  \u001b[0m | \u001b[0m78.55    \u001b[0m | \u001b[0m0.4846   \u001b[0m | \u001b[0m0.4789   \u001b[0m |\n",
      "Epoch 31: early stopping\n",
      "\u001b[1m144/144\u001b[0m \u001b[32m━━━━━━━━━━━━━━━━━━━━\u001b[0m\u001b[37m\u001b[0m \u001b[1m0s\u001b[0m 686us/step - accuracy: 0.6600 - loss: 0.8966\n",
      "Epoch 20: early stopping\n",
      "\u001b[1m144/144\u001b[0m \u001b[32m━━━━━━━━━━━━━━━━━━━━\u001b[0m\u001b[37m\u001b[0m \u001b[1m0s\u001b[0m 686us/step - accuracy: 0.6552 - loss: 1.1439\n",
      "Epoch 20: early stopping\n",
      "\u001b[1m144/144\u001b[0m \u001b[32m━━━━━━━━━━━━━━━━━━━━\u001b[0m\u001b[37m\u001b[0m \u001b[1m0s\u001b[0m 672us/step - accuracy: 0.6520 - loss: 1.1518\n",
      "Epoch 20: early stopping\n",
      "\u001b[1m144/144\u001b[0m \u001b[32m━━━━━━━━━━━━━━━━━━━━\u001b[0m\u001b[37m\u001b[0m \u001b[1m0s\u001b[0m 672us/step - accuracy: 0.6617 - loss: 1.1232\n",
      "Epoch 20: early stopping\n",
      "\u001b[1m144/144\u001b[0m \u001b[32m━━━━━━━━━━━━━━━━━━━━\u001b[0m\u001b[37m\u001b[0m \u001b[1m0s\u001b[0m 658us/step - accuracy: 0.6544 - loss: 1.1336\n",
      "| \u001b[0m16       \u001b[0m | \u001b[0m0.6457   \u001b[0m | \u001b[0m2.41     \u001b[0m | \u001b[0m745.7    \u001b[0m | \u001b[0m0.8068   \u001b[0m | \u001b[0m0.3697   \u001b[0m | \u001b[0m98.29    \u001b[0m | \u001b[0m1.173    \u001b[0m | \u001b[0m1.376    \u001b[0m | \u001b[0m2.465    \u001b[0m | \u001b[0m0.9685   \u001b[0m | \u001b[0m14.5     \u001b[0m | \u001b[0m0.2928   \u001b[0m | \u001b[0m6.058    \u001b[0m |\n",
      "\u001b[1m144/144\u001b[0m \u001b[32m━━━━━━━━━━━━━━━━━━━━\u001b[0m\u001b[37m\u001b[0m \u001b[1m0s\u001b[0m 1ms/step - accuracy: 0.8012 - loss: 0.5581\n",
      "Epoch 20: early stopping\n",
      "\u001b[1m144/144\u001b[0m \u001b[32m━━━━━━━━━━━━━━━━━━━━\u001b[0m\u001b[37m\u001b[0m \u001b[1m0s\u001b[0m 1ms/step - accuracy: 0.8810 - loss: 0.3353\n",
      "Epoch 20: early stopping\n",
      "\u001b[1m144/144\u001b[0m \u001b[32m━━━━━━━━━━━━━━━━━━━━\u001b[0m\u001b[37m\u001b[0m \u001b[1m0s\u001b[0m 1ms/step - accuracy: 0.8869 - loss: 0.3083\n",
      "Epoch 20: early stopping\n",
      "\u001b[1m144/144\u001b[0m \u001b[32m━━━━━━━━━━━━━━━━━━━━\u001b[0m\u001b[37m\u001b[0m \u001b[1m0s\u001b[0m 1ms/step - accuracy: 0.8427 - loss: 0.4244\n",
      "Epoch 20: early stopping\n",
      "\u001b[1m144/144\u001b[0m \u001b[32m━━━━━━━━━━━━━━━━━━━━\u001b[0m\u001b[37m\u001b[0m \u001b[1m0s\u001b[0m 1ms/step - accuracy: 0.8869 - loss: 0.3211\n",
      "| \u001b[95m17       \u001b[0m | \u001b[95m0.8559   \u001b[0m | \u001b[95m2.21     \u001b[0m | \u001b[95m284.3    \u001b[0m | \u001b[95m0.8208   \u001b[0m | \u001b[95m0.3063   \u001b[0m | \u001b[95m35.41    \u001b[0m | \u001b[95m2.617    \u001b[0m | \u001b[95m2.453    \u001b[0m | \u001b[95m1.64     \u001b[0m | \u001b[95m0.8516   \u001b[0m | \u001b[95m75.64    \u001b[0m | \u001b[95m0.6817   \u001b[0m | \u001b[95m2.782    \u001b[0m |\n"
     ]
    },
    {
     "name": "stdout",
     "output_type": "stream",
     "text": [
      "\u001b[1m144/144\u001b[0m \u001b[32m━━━━━━━━━━━━━━━━━━━━\u001b[0m\u001b[37m\u001b[0m \u001b[1m0s\u001b[0m 910us/step - accuracy: 0.6451 - loss: 1.1405\n",
      "Epoch 28: early stopping\n",
      "\u001b[1m144/144\u001b[0m \u001b[32m━━━━━━━━━━━━━━━━━━━━\u001b[0m\u001b[37m\u001b[0m \u001b[1m1s\u001b[0m 889us/step - accuracy: 0.6552 - loss: 1.1513\n",
      "Epoch 20: early stopping\n",
      "\u001b[1m144/144\u001b[0m \u001b[32m━━━━━━━━━━━━━━━━━━━━\u001b[0m\u001b[37m\u001b[0m \u001b[1m0s\u001b[0m 955us/step - accuracy: 0.6520 - loss: 1.1460\n",
      "Epoch 20: early stopping\n",
      "\u001b[1m144/144\u001b[0m \u001b[32m━━━━━━━━━━━━━━━━━━━━\u001b[0m\u001b[37m\u001b[0m \u001b[1m0s\u001b[0m 875us/step - accuracy: 0.6617 - loss: 1.1309\n",
      "Epoch 20: early stopping\n",
      "\u001b[1m144/144\u001b[0m \u001b[32m━━━━━━━━━━━━━━━━━━━━\u001b[0m\u001b[37m\u001b[0m \u001b[1m0s\u001b[0m 905us/step - accuracy: 0.6544 - loss: 1.1337\n",
      "| \u001b[0m18       \u001b[0m | \u001b[0m0.6434   \u001b[0m | \u001b[0m0.0      \u001b[0m | \u001b[0m282.1    \u001b[0m | \u001b[0m1.0      \u001b[0m | \u001b[0m0.3      \u001b[0m | \u001b[0m34.19    \u001b[0m | \u001b[0m2.857    \u001b[0m | \u001b[0m2.524    \u001b[0m | \u001b[0m1.0      \u001b[0m | \u001b[0m1.0      \u001b[0m | \u001b[0m77.56    \u001b[0m | \u001b[0m0.8134   \u001b[0m | \u001b[0m5.367    \u001b[0m |\n",
      "Epoch 22: early stopping\n",
      "\u001b[1m144/144\u001b[0m \u001b[32m━━━━━━━━━━━━━━━━━━━━\u001b[0m\u001b[37m\u001b[0m \u001b[1m0s\u001b[0m 874us/step - accuracy: 0.6451 - loss: nan\n",
      "Epoch 22: early stopping\n",
      "\u001b[1m144/144\u001b[0m \u001b[32m━━━━━━━━━━━━━━━━━━━━\u001b[0m\u001b[37m\u001b[0m \u001b[1m0s\u001b[0m 917us/step - accuracy: 0.6552 - loss: nan\n",
      "Epoch 20: early stopping\n",
      "\u001b[1m144/144\u001b[0m \u001b[32m━━━━━━━━━━━━━━━━━━━━\u001b[0m\u001b[37m\u001b[0m \u001b[1m0s\u001b[0m 869us/step - accuracy: 0.6520 - loss: nan\n",
      "Epoch 20: early stopping\n",
      "\u001b[1m144/144\u001b[0m \u001b[32m━━━━━━━━━━━━━━━━━━━━\u001b[0m\u001b[37m\u001b[0m \u001b[1m0s\u001b[0m 861us/step - accuracy: 0.6617 - loss: nan\n",
      "Epoch 20: early stopping\n",
      "\u001b[1m144/144\u001b[0m \u001b[32m━━━━━━━━━━━━━━━━━━━━\u001b[0m\u001b[37m\u001b[0m \u001b[1m0s\u001b[0m 917us/step - accuracy: 0.6544 - loss: nan\n",
      "| \u001b[0m19       \u001b[0m | \u001b[0m0.6434   \u001b[0m | \u001b[0m4.872    \u001b[0m | \u001b[0m283.7    \u001b[0m | \u001b[0m0.4466   \u001b[0m | \u001b[0m0.4783   \u001b[0m | \u001b[0m36.54    \u001b[0m | \u001b[0m2.058    \u001b[0m | \u001b[0m1.319    \u001b[0m | \u001b[0m2.072    \u001b[0m | \u001b[0m0.3111   \u001b[0m | \u001b[0m79.24    \u001b[0m | \u001b[0m0.2951   \u001b[0m | \u001b[0m0.2599   \u001b[0m |\n",
      "=========================================================================================================================================================================\n",
      "Search took 12.120795881748199 minutes\n"
     ]
    }
   ],
   "source": [
    "# Start timing the Bayesian Optimization process\n",
    "start = time.time()\n",
    "\n",
    "# Define the hyperparameter space for Bayesian Optimization\n",
    "params = {\n",
    "    'neurons': (10, 100),\n",
    "    'kernel': (1, 3),\n",
    "    'activation': (0, 9),  # 9\n",
    "    'optimizer': (0, 7),  # 7\n",
    "    'learning_rate': (0.001, 1),\n",
    "    'batch_size': (200, 1000), #(10, 50), #\n",
    "    'epochs': (20, 100),\n",
    "    'layers1': (1, 3),\n",
    "    'layers2': (1, 3),\n",
    "    'normalization': (0, 1),\n",
    "    'dropout': (0, 1),\n",
    "    'dropout_rate': (0.3, 0.5)\n",
    "}\n",
    "\n",
    "# Run Bayesian Optimization\n",
    "nn_opt = BayesianOptimization(bay_area, params, random_state=127)\n",
    "nn_opt.maximize(init_points=15, n_iter=4)  # 25\n",
    "print('Search took %s minutes' % ((time.time() - start)/60))"
   ]
  },
  {
   "cell_type": "code",
   "execution_count": 31,
   "id": "6a329b59",
   "metadata": {},
   "outputs": [
    {
     "name": "stdout",
     "output_type": "stream",
     "text": [
      "Best Parameters: {'activation': 2.2101334577457843, 'batch_size': 284.29016503530556, 'dropout': 0.820796192529784, 'dropout_rate': 0.30631415814119844, 'epochs': 35.41422470029453, 'kernel': 2.6171873384811173, 'layers1': 2.453293027387388, 'layers2': 1.6404905917542365, 'learning_rate': 0.8516155355653221, 'neurons': 75.63734281167133, 'normalization': 0.6817477276996559, 'optimizer': 2.782307937709919}\n",
      "Highest Accuracy: 0.8558605670928955\n"
     ]
    }
   ],
   "source": [
    "# Print best search result\n",
    "best_params = nn_opt.max['params']\n",
    "best_score = nn_opt.max['target']\n",
    "\n",
    "print(f\"Best Parameters: {best_params}\")\n",
    "print(f\"Highest Accuracy: {best_score}\")"
   ]
  },
  {
   "cell_type": "code",
   "execution_count": 37,
   "id": "c0821f98",
   "metadata": {},
   "outputs": [
    {
     "name": "stdout",
     "output_type": "stream",
     "text": [
      "Best Parameters: \n",
      "Activation: softplus\n",
      "Batch Size: 284\n",
      "Dropout Rate: 0.3063\n",
      "Dropout: 0.8208\n",
      "Epochs: 35\n",
      "Kernel Size: 3\n",
      "Layers1: 2\n",
      "Layers2: 2\n",
      "Learning Rate: 0.8516\n",
      "Neurons: 76\n",
      "Normalization: 0.6817\n",
      "Optimizer: Adadelta\n"
     ]
    }
   ],
   "source": [
    "# Retrieve the best parameters from the optimization result\n",
    "optimum = nn_opt.max['params']\n",
    "\n",
    "# Assign the best parameters to their respective variables\n",
    "learning_rate = optimum['learning_rate']\n",
    "activationL = ['relu', 'sigmoid', 'softplus', 'softsign', 'tanh', 'selu', 'elu', 'exponential', 'LeakyReLU', 'relu']\n",
    "activation = activationL[round(optimum['activation'])]\n",
    "\n",
    "# Convert the hyperparameters to their integer form where necessary\n",
    "optimum['batch_size'] = round(optimum['batch_size'])\n",
    "optimum['epochs'] = round(optimum['epochs'])\n",
    "optimum['layers1'] = round(optimum['layers1'])\n",
    "optimum['layers2'] = round(optimum['layers2'])\n",
    "optimum['neurons'] = round(optimum['neurons'])\n",
    "optimum['kernel'] = round(optimum['kernel'])\n",
    "\n",
    "optimizerL = ['SGD', 'Adam', 'RMSprop', 'Adadelta', 'Adagrad', 'Adamax', 'Nadam', 'Ftrl']\n",
    "optimizerD = {\n",
    "    'SGD': SGD(learning_rate=learning_rate),\n",
    "    'Adam': Adam(learning_rate=learning_rate),\n",
    "    'RMSprop': RMSprop(learning_rate=learning_rate),\n",
    "    'Adadelta': Adadelta(learning_rate=learning_rate),\n",
    "    'Adagrad': Adagrad(learning_rate=learning_rate),\n",
    "    'Adamax': Adamax(learning_rate=learning_rate),\n",
    "    'Nadam': Nadam(learning_rate=learning_rate),\n",
    "    'Ftrl': Ftrl(learning_rate=learning_rate)\n",
    "}\n",
    "\n",
    "# Retrieve the optimizer name\n",
    "optimizer_name = optimizerL[round(optimum['optimizer'])]\n",
    "\n",
    "# Print the optimum parameters in a readable format\n",
    "print(f\"Best Parameters: \")\n",
    "print(f\"Activation: {activation}\")\n",
    "print(f\"Batch Size: {optimum['batch_size']}\")\n",
    "print(f\"Dropout Rate: {optimum['dropout_rate']:.4f}\")\n",
    "print(f\"Dropout: {optimum['dropout']:.4f}\")\n",
    "print(f\"Epochs: {optimum['epochs']}\")\n",
    "print(f\"Kernel Size: {optimum['kernel']}\")\n",
    "print(f\"Layers1: {optimum['layers1']}\")\n",
    "print(f\"Layers2: {optimum['layers2']}\")\n",
    "print(f\"Learning Rate: {optimum['learning_rate']:.4f}\")\n",
    "print(f\"Neurons: {optimum['neurons']}\")\n",
    "print(f\"Normalization: {optimum['normalization']:.4f}\")\n",
    "print(f\"Optimizer: {optimizer_name}\")"
   ]
  },
  {
   "cell_type": "markdown",
   "id": "7d0b520c",
   "metadata": {},
   "source": [
    "## 5. CNN (Convolution Neural Network) model"
   ]
  },
  {
   "cell_type": "code",
   "execution_count": 33,
   "id": "07c57b5f",
   "metadata": {},
   "outputs": [],
   "source": [
    "# Setting up label key for all weather stations\n",
    "stations = {\n",
    "    0: 'BASEL',\n",
    "    1: 'BELGRADE',\n",
    "    2: 'BUDAPEST',\n",
    "    3: 'DEBILT',\n",
    "    4: 'DUSSELDORF',\n",
    "    5: 'HEATHROW',\n",
    "    6: 'KASSEL',\n",
    "    7: 'LJUBLJANA',\n",
    "    8: 'MAASTRICHT',\n",
    "    9: 'MADRID',\n",
    "   10: 'MUNCHENB',\n",
    "   11: 'OSLO',\n",
    "   12: 'SONNBLICK',\n",
    "   13: 'STOCKHOLM',\n",
    "   14: 'VALENTIA',\n",
    "}"
   ]
  },
  {
   "cell_type": "code",
   "execution_count": 38,
   "id": "cc75a5f1",
   "metadata": {},
   "outputs": [],
   "source": [
    "# Best parameters from optimization\n",
    "best_params = {\n",
    "    'activation': 'softplus',\n",
    "    'batch_size': 284,\n",
    "    'dropout_rate':  0.3063,\n",
    "    'dropout': 0.8208,\n",
    "    'epochs':35,\n",
    "    'kernel': 3,\n",
    "    'layers1': 2,\n",
    "    'layers2': 2,\n",
    "    'learning_rate': 0.8516,\n",
    "    'neurons': 76,\n",
    "    'normalization': 0.6817,\n",
    "    'optimizer': 'Adadelta'\n",
    "}\n",
    "\n",
    "# Initialize optimizer with learning rate\n",
    "optimizers = {\n",
    "    'Adam': Adam(learning_rate=best_params['learning_rate']),\n",
    "    'SGD': SGD(learning_rate=best_params['learning_rate']),\n",
    "    'RMSprop': RMSprop(learning_rate=best_params['learning_rate']),\n",
    "    'Adadelta': Adadelta(learning_rate=best_params['learning_rate']),\n",
    "    'Adagrad': Adagrad(learning_rate=best_params['learning_rate']),\n",
    "    'Adamax': Adamax(learning_rate=best_params['learning_rate']),\n",
    "    'Nadam': Nadam(learning_rate=best_params['learning_rate']),\n",
    "    'Ftrl': Ftrl(learning_rate=best_params['learning_rate'])\n",
    "}\n",
    "\n",
    "optimizer = optimizers[best_params['optimizer']]\n",
    "\n",
    "timesteps = len(X_train[0])\n",
    "input_dim = len(X_train[0][0])\n",
    "#n_classes = len(y_train[0])\n",
    "\n",
    "model = Sequential()\n",
    "model.add(Conv1D(best_params['neurons'], kernel_size=best_params['kernel'], activation=best_params['activation'], input_shape=(15,9)))\n",
    "\n",
    "if best_params['normalization'] > 0.5:\n",
    "    model.add(BatchNormalization())\n",
    "\n",
    "for _ in range(best_params['layers1']):\n",
    "    model.add(Dense(best_params['neurons'], activation=best_params['activation']))\n",
    "\n",
    "if best_params['dropout'] > 0.5:\n",
    "    model.add(Dropout(best_params['dropout_rate'], seed=123))\n",
    "\n",
    "for _ in range(best_params['layers2']):\n",
    "    model.add(Dense(best_params['neurons'], activation=best_params['activation']))\n",
    "\n",
    "model.add(MaxPooling1D())\n",
    "model.add(Flatten())\n",
    "model.add(Dense(n_classes, activation='softmax')) # sigmoid, tanh, softmax"
   ]
  },
  {
   "cell_type": "code",
   "execution_count": 39,
   "id": "b7ecc026",
   "metadata": {},
   "outputs": [],
   "source": [
    "# Compile model\n",
    "model.compile(loss='sparse_categorical_crossentropy', optimizer=optimizer, metrics=['accuracy'])"
   ]
  },
  {
   "cell_type": "code",
   "execution_count": 40,
   "id": "498b589f",
   "metadata": {},
   "outputs": [
    {
     "name": "stdout",
     "output_type": "stream",
     "text": [
      "Epoch 1/35\n",
      "65/65 - 2s - 32ms/step - accuracy: 0.6338 - loss: 1.1525\n",
      "Epoch 2/35\n",
      "65/65 - 0s - 6ms/step - accuracy: 0.6992 - loss: 0.9244\n",
      "Epoch 3/35\n",
      "65/65 - 0s - 6ms/step - accuracy: 0.7181 - loss: 0.8321\n",
      "Epoch 4/35\n",
      "65/65 - 0s - 6ms/step - accuracy: 0.7355 - loss: 0.7718\n",
      "Epoch 5/35\n",
      "65/65 - 0s - 6ms/step - accuracy: 0.7449 - loss: 0.7349\n",
      "Epoch 6/35\n",
      "65/65 - 0s - 5ms/step - accuracy: 0.7590 - loss: 0.6894\n",
      "Epoch 7/35\n",
      "65/65 - 0s - 5ms/step - accuracy: 0.7681 - loss: 0.6584\n",
      "Epoch 8/35\n",
      "65/65 - 0s - 5ms/step - accuracy: 0.7791 - loss: 0.6117\n",
      "Epoch 9/35\n",
      "65/65 - 0s - 5ms/step - accuracy: 0.7966 - loss: 0.5801\n",
      "Epoch 10/35\n",
      "65/65 - 0s - 6ms/step - accuracy: 0.8040 - loss: 0.5536\n",
      "Epoch 11/35\n",
      "65/65 - 0s - 5ms/step - accuracy: 0.8107 - loss: 0.5291\n",
      "Epoch 12/35\n",
      "65/65 - 0s - 6ms/step - accuracy: 0.8190 - loss: 0.5047\n",
      "Epoch 13/35\n",
      "65/65 - 0s - 6ms/step - accuracy: 0.8293 - loss: 0.4703\n",
      "Epoch 14/35\n",
      "65/65 - 0s - 5ms/step - accuracy: 0.8316 - loss: 0.4610\n",
      "Epoch 15/35\n",
      "65/65 - 0s - 6ms/step - accuracy: 0.8408 - loss: 0.4317\n",
      "Epoch 16/35\n",
      "65/65 - 0s - 5ms/step - accuracy: 0.8516 - loss: 0.4098\n",
      "Epoch 17/35\n",
      "65/65 - 0s - 6ms/step - accuracy: 0.8541 - loss: 0.4027\n",
      "Epoch 18/35\n",
      "65/65 - 0s - 6ms/step - accuracy: 0.8611 - loss: 0.3872\n",
      "Epoch 19/35\n",
      "65/65 - 0s - 6ms/step - accuracy: 0.8686 - loss: 0.3671\n",
      "Epoch 20/35\n",
      "65/65 - 0s - 5ms/step - accuracy: 0.8768 - loss: 0.3498\n",
      "Epoch 21/35\n",
      "65/65 - 0s - 5ms/step - accuracy: 0.8763 - loss: 0.3434\n",
      "Epoch 22/35\n",
      "65/65 - 0s - 5ms/step - accuracy: 0.8821 - loss: 0.3297\n",
      "Epoch 23/35\n",
      "65/65 - 0s - 5ms/step - accuracy: 0.8842 - loss: 0.3230\n",
      "Epoch 24/35\n",
      "65/65 - 0s - 5ms/step - accuracy: 0.8926 - loss: 0.3013\n",
      "Epoch 25/35\n",
      "65/65 - 0s - 6ms/step - accuracy: 0.8922 - loss: 0.3043\n",
      "Epoch 26/35\n",
      "65/65 - 0s - 6ms/step - accuracy: 0.8916 - loss: 0.3007\n",
      "Epoch 27/35\n",
      "65/65 - 0s - 5ms/step - accuracy: 0.9010 - loss: 0.2810\n",
      "Epoch 28/35\n",
      "65/65 - 0s - 5ms/step - accuracy: 0.9037 - loss: 0.2781\n",
      "Epoch 29/35\n",
      "65/65 - 0s - 5ms/step - accuracy: 0.9063 - loss: 0.2634\n",
      "Epoch 30/35\n",
      "65/65 - 0s - 5ms/step - accuracy: 0.9058 - loss: 0.2665\n",
      "Epoch 31/35\n",
      "65/65 - 0s - 5ms/step - accuracy: 0.9120 - loss: 0.2482\n",
      "Epoch 32/35\n",
      "65/65 - 0s - 5ms/step - accuracy: 0.9170 - loss: 0.2448\n",
      "Epoch 33/35\n",
      "65/65 - 0s - 6ms/step - accuracy: 0.9127 - loss: 0.2521\n",
      "Epoch 34/35\n",
      "65/65 - 0s - 6ms/step - accuracy: 0.9191 - loss: 0.2314\n",
      "Epoch 35/35\n",
      "65/65 - 0s - 5ms/step - accuracy: 0.9230 - loss: 0.2240\n"
     ]
    },
    {
     "data": {
      "text/plain": [
       "<keras.src.callbacks.history.History at 0x2290afba0d0>"
      ]
     },
     "execution_count": 40,
     "metadata": {},
     "output_type": "execute_result"
    }
   ],
   "source": [
    "# Train model\n",
    "model.fit(X_train, y_train, batch_size=best_params['batch_size'], epochs=best_params['epochs'], verbose=2)"
   ]
  },
  {
   "cell_type": "code",
   "execution_count": 41,
   "id": "77d9242c",
   "metadata": {},
   "outputs": [
    {
     "data": {
      "text/html": [
       "<pre style=\"white-space:pre;overflow-x:auto;line-height:normal;font-family:Menlo,'DejaVu Sans Mono',consolas,'Courier New',monospace\"><span style=\"font-weight: bold\">Model: \"sequential_96\"</span>\n",
       "</pre>\n"
      ],
      "text/plain": [
       "\u001b[1mModel: \"sequential_96\"\u001b[0m\n"
      ]
     },
     "metadata": {},
     "output_type": "display_data"
    },
    {
     "data": {
      "text/html": [
       "<pre style=\"white-space:pre;overflow-x:auto;line-height:normal;font-family:Menlo,'DejaVu Sans Mono',consolas,'Courier New',monospace\">┏━━━━━━━━━━━━━━━━━━━━━━━━━━━━━━━━━┳━━━━━━━━━━━━━━━━━━━━━━━━┳━━━━━━━━━━━━━━━┓\n",
       "┃<span style=\"font-weight: bold\"> Layer (type)                    </span>┃<span style=\"font-weight: bold\"> Output Shape           </span>┃<span style=\"font-weight: bold\">       Param # </span>┃\n",
       "┡━━━━━━━━━━━━━━━━━━━━━━━━━━━━━━━━━╇━━━━━━━━━━━━━━━━━━━━━━━━╇━━━━━━━━━━━━━━━┩\n",
       "│ conv1d_96 (<span style=\"color: #0087ff; text-decoration-color: #0087ff\">Conv1D</span>)              │ (<span style=\"color: #00d7ff; text-decoration-color: #00d7ff\">None</span>, <span style=\"color: #00af00; text-decoration-color: #00af00\">13</span>, <span style=\"color: #00af00; text-decoration-color: #00af00\">76</span>)         │         <span style=\"color: #00af00; text-decoration-color: #00af00\">2,128</span> │\n",
       "├─────────────────────────────────┼────────────────────────┼───────────────┤\n",
       "│ batch_normalization_61          │ (<span style=\"color: #00d7ff; text-decoration-color: #00d7ff\">None</span>, <span style=\"color: #00af00; text-decoration-color: #00af00\">13</span>, <span style=\"color: #00af00; text-decoration-color: #00af00\">76</span>)         │           <span style=\"color: #00af00; text-decoration-color: #00af00\">304</span> │\n",
       "│ (<span style=\"color: #0087ff; text-decoration-color: #0087ff\">BatchNormalization</span>)            │                        │               │\n",
       "├─────────────────────────────────┼────────────────────────┼───────────────┤\n",
       "│ dense_477 (<span style=\"color: #0087ff; text-decoration-color: #0087ff\">Dense</span>)               │ (<span style=\"color: #00d7ff; text-decoration-color: #00d7ff\">None</span>, <span style=\"color: #00af00; text-decoration-color: #00af00\">13</span>, <span style=\"color: #00af00; text-decoration-color: #00af00\">76</span>)         │         <span style=\"color: #00af00; text-decoration-color: #00af00\">5,852</span> │\n",
       "├─────────────────────────────────┼────────────────────────┼───────────────┤\n",
       "│ dense_478 (<span style=\"color: #0087ff; text-decoration-color: #0087ff\">Dense</span>)               │ (<span style=\"color: #00d7ff; text-decoration-color: #00d7ff\">None</span>, <span style=\"color: #00af00; text-decoration-color: #00af00\">13</span>, <span style=\"color: #00af00; text-decoration-color: #00af00\">76</span>)         │         <span style=\"color: #00af00; text-decoration-color: #00af00\">5,852</span> │\n",
       "├─────────────────────────────────┼────────────────────────┼───────────────┤\n",
       "│ dropout_45 (<span style=\"color: #0087ff; text-decoration-color: #0087ff\">Dropout</span>)            │ (<span style=\"color: #00d7ff; text-decoration-color: #00d7ff\">None</span>, <span style=\"color: #00af00; text-decoration-color: #00af00\">13</span>, <span style=\"color: #00af00; text-decoration-color: #00af00\">76</span>)         │             <span style=\"color: #00af00; text-decoration-color: #00af00\">0</span> │\n",
       "├─────────────────────────────────┼────────────────────────┼───────────────┤\n",
       "│ dense_479 (<span style=\"color: #0087ff; text-decoration-color: #0087ff\">Dense</span>)               │ (<span style=\"color: #00d7ff; text-decoration-color: #00d7ff\">None</span>, <span style=\"color: #00af00; text-decoration-color: #00af00\">13</span>, <span style=\"color: #00af00; text-decoration-color: #00af00\">76</span>)         │         <span style=\"color: #00af00; text-decoration-color: #00af00\">5,852</span> │\n",
       "├─────────────────────────────────┼────────────────────────┼───────────────┤\n",
       "│ dense_480 (<span style=\"color: #0087ff; text-decoration-color: #0087ff\">Dense</span>)               │ (<span style=\"color: #00d7ff; text-decoration-color: #00d7ff\">None</span>, <span style=\"color: #00af00; text-decoration-color: #00af00\">13</span>, <span style=\"color: #00af00; text-decoration-color: #00af00\">76</span>)         │         <span style=\"color: #00af00; text-decoration-color: #00af00\">5,852</span> │\n",
       "├─────────────────────────────────┼────────────────────────┼───────────────┤\n",
       "│ max_pooling1d_95 (<span style=\"color: #0087ff; text-decoration-color: #0087ff\">MaxPooling1D</span>) │ (<span style=\"color: #00d7ff; text-decoration-color: #00d7ff\">None</span>, <span style=\"color: #00af00; text-decoration-color: #00af00\">6</span>, <span style=\"color: #00af00; text-decoration-color: #00af00\">76</span>)          │             <span style=\"color: #00af00; text-decoration-color: #00af00\">0</span> │\n",
       "├─────────────────────────────────┼────────────────────────┼───────────────┤\n",
       "│ flatten_95 (<span style=\"color: #0087ff; text-decoration-color: #0087ff\">Flatten</span>)            │ (<span style=\"color: #00d7ff; text-decoration-color: #00d7ff\">None</span>, <span style=\"color: #00af00; text-decoration-color: #00af00\">456</span>)            │             <span style=\"color: #00af00; text-decoration-color: #00af00\">0</span> │\n",
       "├─────────────────────────────────┼────────────────────────┼───────────────┤\n",
       "│ dense_481 (<span style=\"color: #0087ff; text-decoration-color: #0087ff\">Dense</span>)               │ (<span style=\"color: #00d7ff; text-decoration-color: #00d7ff\">None</span>, <span style=\"color: #00af00; text-decoration-color: #00af00\">15</span>)             │         <span style=\"color: #00af00; text-decoration-color: #00af00\">6,855</span> │\n",
       "└─────────────────────────────────┴────────────────────────┴───────────────┘\n",
       "</pre>\n"
      ],
      "text/plain": [
       "┏━━━━━━━━━━━━━━━━━━━━━━━━━━━━━━━━━┳━━━━━━━━━━━━━━━━━━━━━━━━┳━━━━━━━━━━━━━━━┓\n",
       "┃\u001b[1m \u001b[0m\u001b[1mLayer (type)                   \u001b[0m\u001b[1m \u001b[0m┃\u001b[1m \u001b[0m\u001b[1mOutput Shape          \u001b[0m\u001b[1m \u001b[0m┃\u001b[1m \u001b[0m\u001b[1m      Param #\u001b[0m\u001b[1m \u001b[0m┃\n",
       "┡━━━━━━━━━━━━━━━━━━━━━━━━━━━━━━━━━╇━━━━━━━━━━━━━━━━━━━━━━━━╇━━━━━━━━━━━━━━━┩\n",
       "│ conv1d_96 (\u001b[38;5;33mConv1D\u001b[0m)              │ (\u001b[38;5;45mNone\u001b[0m, \u001b[38;5;34m13\u001b[0m, \u001b[38;5;34m76\u001b[0m)         │         \u001b[38;5;34m2,128\u001b[0m │\n",
       "├─────────────────────────────────┼────────────────────────┼───────────────┤\n",
       "│ batch_normalization_61          │ (\u001b[38;5;45mNone\u001b[0m, \u001b[38;5;34m13\u001b[0m, \u001b[38;5;34m76\u001b[0m)         │           \u001b[38;5;34m304\u001b[0m │\n",
       "│ (\u001b[38;5;33mBatchNormalization\u001b[0m)            │                        │               │\n",
       "├─────────────────────────────────┼────────────────────────┼───────────────┤\n",
       "│ dense_477 (\u001b[38;5;33mDense\u001b[0m)               │ (\u001b[38;5;45mNone\u001b[0m, \u001b[38;5;34m13\u001b[0m, \u001b[38;5;34m76\u001b[0m)         │         \u001b[38;5;34m5,852\u001b[0m │\n",
       "├─────────────────────────────────┼────────────────────────┼───────────────┤\n",
       "│ dense_478 (\u001b[38;5;33mDense\u001b[0m)               │ (\u001b[38;5;45mNone\u001b[0m, \u001b[38;5;34m13\u001b[0m, \u001b[38;5;34m76\u001b[0m)         │         \u001b[38;5;34m5,852\u001b[0m │\n",
       "├─────────────────────────────────┼────────────────────────┼───────────────┤\n",
       "│ dropout_45 (\u001b[38;5;33mDropout\u001b[0m)            │ (\u001b[38;5;45mNone\u001b[0m, \u001b[38;5;34m13\u001b[0m, \u001b[38;5;34m76\u001b[0m)         │             \u001b[38;5;34m0\u001b[0m │\n",
       "├─────────────────────────────────┼────────────────────────┼───────────────┤\n",
       "│ dense_479 (\u001b[38;5;33mDense\u001b[0m)               │ (\u001b[38;5;45mNone\u001b[0m, \u001b[38;5;34m13\u001b[0m, \u001b[38;5;34m76\u001b[0m)         │         \u001b[38;5;34m5,852\u001b[0m │\n",
       "├─────────────────────────────────┼────────────────────────┼───────────────┤\n",
       "│ dense_480 (\u001b[38;5;33mDense\u001b[0m)               │ (\u001b[38;5;45mNone\u001b[0m, \u001b[38;5;34m13\u001b[0m, \u001b[38;5;34m76\u001b[0m)         │         \u001b[38;5;34m5,852\u001b[0m │\n",
       "├─────────────────────────────────┼────────────────────────┼───────────────┤\n",
       "│ max_pooling1d_95 (\u001b[38;5;33mMaxPooling1D\u001b[0m) │ (\u001b[38;5;45mNone\u001b[0m, \u001b[38;5;34m6\u001b[0m, \u001b[38;5;34m76\u001b[0m)          │             \u001b[38;5;34m0\u001b[0m │\n",
       "├─────────────────────────────────┼────────────────────────┼───────────────┤\n",
       "│ flatten_95 (\u001b[38;5;33mFlatten\u001b[0m)            │ (\u001b[38;5;45mNone\u001b[0m, \u001b[38;5;34m456\u001b[0m)            │             \u001b[38;5;34m0\u001b[0m │\n",
       "├─────────────────────────────────┼────────────────────────┼───────────────┤\n",
       "│ dense_481 (\u001b[38;5;33mDense\u001b[0m)               │ (\u001b[38;5;45mNone\u001b[0m, \u001b[38;5;34m15\u001b[0m)             │         \u001b[38;5;34m6,855\u001b[0m │\n",
       "└─────────────────────────────────┴────────────────────────┴───────────────┘\n"
      ]
     },
     "metadata": {},
     "output_type": "display_data"
    },
    {
     "data": {
      "text/html": [
       "<pre style=\"white-space:pre;overflow-x:auto;line-height:normal;font-family:Menlo,'DejaVu Sans Mono',consolas,'Courier New',monospace\"><span style=\"font-weight: bold\"> Total params: </span><span style=\"color: #00af00; text-decoration-color: #00af00\">97,783</span> (381.97 KB)\n",
       "</pre>\n"
      ],
      "text/plain": [
       "\u001b[1m Total params: \u001b[0m\u001b[38;5;34m97,783\u001b[0m (381.97 KB)\n"
      ]
     },
     "metadata": {},
     "output_type": "display_data"
    },
    {
     "data": {
      "text/html": [
       "<pre style=\"white-space:pre;overflow-x:auto;line-height:normal;font-family:Menlo,'DejaVu Sans Mono',consolas,'Courier New',monospace\"><span style=\"font-weight: bold\"> Trainable params: </span><span style=\"color: #00af00; text-decoration-color: #00af00\">32,543</span> (127.12 KB)\n",
       "</pre>\n"
      ],
      "text/plain": [
       "\u001b[1m Trainable params: \u001b[0m\u001b[38;5;34m32,543\u001b[0m (127.12 KB)\n"
      ]
     },
     "metadata": {},
     "output_type": "display_data"
    },
    {
     "data": {
      "text/html": [
       "<pre style=\"white-space:pre;overflow-x:auto;line-height:normal;font-family:Menlo,'DejaVu Sans Mono',consolas,'Courier New',monospace\"><span style=\"font-weight: bold\"> Non-trainable params: </span><span style=\"color: #00af00; text-decoration-color: #00af00\">152</span> (608.00 B)\n",
       "</pre>\n"
      ],
      "text/plain": [
       "\u001b[1m Non-trainable params: \u001b[0m\u001b[38;5;34m152\u001b[0m (608.00 B)\n"
      ]
     },
     "metadata": {},
     "output_type": "display_data"
    },
    {
     "data": {
      "text/html": [
       "<pre style=\"white-space:pre;overflow-x:auto;line-height:normal;font-family:Menlo,'DejaVu Sans Mono',consolas,'Courier New',monospace\"><span style=\"font-weight: bold\"> Optimizer params: </span><span style=\"color: #00af00; text-decoration-color: #00af00\">65,088</span> (254.25 KB)\n",
       "</pre>\n"
      ],
      "text/plain": [
       "\u001b[1m Optimizer params: \u001b[0m\u001b[38;5;34m65,088\u001b[0m (254.25 KB)\n"
      ]
     },
     "metadata": {},
     "output_type": "display_data"
    }
   ],
   "source": [
    "# View model summary\n",
    "model.summary()"
   ]
  },
  {
   "cell_type": "code",
   "execution_count": 73,
   "id": "d577175d",
   "metadata": {},
   "outputs": [],
   "source": [
    "model.compile(loss='categorical_crossentropy', optimizer=optimizer, metrics=['accuracy'])"
   ]
  },
  {
   "cell_type": "code",
   "execution_count": 74,
   "id": "2f4539db",
   "metadata": {},
   "outputs": [],
   "source": [
    "# Assuming X_train and y_train are your input data and labels\n",
    "# One-hot encode y_train\n",
    "y_train_one_hot = to_categorical(y_train, num_classes=15)"
   ]
  },
  {
   "cell_type": "code",
   "execution_count": 75,
   "id": "b3d2ddd7",
   "metadata": {},
   "outputs": [
    {
     "name": "stdout",
     "output_type": "stream",
     "text": [
      "X_train shape: (18360, 15, 9)\n",
      "y_train_one_hot shape: (18360, 15)\n"
     ]
    }
   ],
   "source": [
    "# Check shapes\n",
    "print(f'X_train shape: {X_train.shape}')\n",
    "print(f'y_train_one_hot shape: {y_train_one_hot.shape}')"
   ]
  },
  {
   "cell_type": "code",
   "execution_count": 76,
   "id": "903f0de3",
   "metadata": {},
   "outputs": [
    {
     "name": "stdout",
     "output_type": "stream",
     "text": [
      "Epoch 1/35\n",
      "65/65 - 2s - 26ms/step - accuracy: 0.9542 - loss: 0.1309\n",
      "Epoch 2/35\n",
      "65/65 - 0s - 5ms/step - accuracy: 0.9522 - loss: 0.1410\n",
      "Epoch 3/35\n",
      "65/65 - 0s - 6ms/step - accuracy: 0.9513 - loss: 0.1359\n",
      "Epoch 4/35\n",
      "65/65 - 0s - 6ms/step - accuracy: 0.9589 - loss: 0.1147\n",
      "Epoch 5/35\n",
      "65/65 - 0s - 5ms/step - accuracy: 0.9577 - loss: 0.1231\n",
      "Epoch 6/35\n",
      "65/65 - 0s - 6ms/step - accuracy: 0.9519 - loss: 0.1365\n",
      "Epoch 7/35\n",
      "65/65 - 0s - 6ms/step - accuracy: 0.9551 - loss: 0.1255\n",
      "Epoch 8/35\n",
      "65/65 - 0s - 6ms/step - accuracy: 0.9533 - loss: 0.1314\n",
      "Epoch 9/35\n",
      "65/65 - 0s - 6ms/step - accuracy: 0.9583 - loss: 0.1213\n",
      "Epoch 10/35\n",
      "65/65 - 0s - 6ms/step - accuracy: 0.9577 - loss: 0.1225\n",
      "Epoch 11/35\n",
      "65/65 - 0s - 6ms/step - accuracy: 0.9614 - loss: 0.1098\n",
      "Epoch 12/35\n",
      "65/65 - 0s - 5ms/step - accuracy: 0.9578 - loss: 0.1196\n",
      "Epoch 13/35\n",
      "65/65 - 0s - 5ms/step - accuracy: 0.9609 - loss: 0.1118\n",
      "Epoch 14/35\n",
      "65/65 - 0s - 6ms/step - accuracy: 0.9571 - loss: 0.1208\n",
      "Epoch 15/35\n",
      "65/65 - 0s - 5ms/step - accuracy: 0.9581 - loss: 0.1178\n",
      "Epoch 16/35\n",
      "65/65 - 0s - 5ms/step - accuracy: 0.9584 - loss: 0.1203\n",
      "Epoch 17/35\n",
      "65/65 - 0s - 5ms/step - accuracy: 0.9640 - loss: 0.1038\n",
      "Epoch 18/35\n",
      "65/65 - 0s - 5ms/step - accuracy: 0.9578 - loss: 0.1178\n",
      "Epoch 19/35\n",
      "65/65 - 0s - 5ms/step - accuracy: 0.9575 - loss: 0.1158\n",
      "Epoch 20/35\n",
      "65/65 - 0s - 6ms/step - accuracy: 0.9583 - loss: 0.1141\n",
      "Epoch 21/35\n",
      "65/65 - 0s - 5ms/step - accuracy: 0.9599 - loss: 0.1135\n",
      "Epoch 22/35\n",
      "65/65 - 0s - 5ms/step - accuracy: 0.9608 - loss: 0.1147\n",
      "Epoch 23/35\n",
      "65/65 - 0s - 5ms/step - accuracy: 0.9675 - loss: 0.0892\n",
      "Epoch 24/35\n",
      "65/65 - 0s - 5ms/step - accuracy: 0.9630 - loss: 0.1055\n",
      "Epoch 25/35\n",
      "65/65 - 0s - 5ms/step - accuracy: 0.9648 - loss: 0.1004\n",
      "Epoch 26/35\n",
      "65/65 - 0s - 5ms/step - accuracy: 0.9617 - loss: 0.1114\n",
      "Epoch 27/35\n",
      "65/65 - 0s - 6ms/step - accuracy: 0.9661 - loss: 0.0934\n",
      "Epoch 28/35\n",
      "65/65 - 0s - 6ms/step - accuracy: 0.9667 - loss: 0.0943\n",
      "Epoch 29/35\n",
      "65/65 - 0s - 6ms/step - accuracy: 0.9643 - loss: 0.0976\n",
      "Epoch 30/35\n",
      "65/65 - 0s - 5ms/step - accuracy: 0.9667 - loss: 0.0960\n",
      "Epoch 31/35\n",
      "65/65 - 0s - 5ms/step - accuracy: 0.9617 - loss: 0.1133\n",
      "Epoch 32/35\n",
      "65/65 - 0s - 5ms/step - accuracy: 0.9678 - loss: 0.0937\n",
      "Epoch 33/35\n",
      "65/65 - 0s - 5ms/step - accuracy: 0.9667 - loss: 0.0950\n",
      "Epoch 34/35\n",
      "65/65 - 0s - 6ms/step - accuracy: 0.9656 - loss: 0.0979\n",
      "Epoch 35/35\n",
      "65/65 - 0s - 5ms/step - accuracy: 0.9660 - loss: 0.1009\n"
     ]
    },
    {
     "data": {
      "text/plain": [
       "<keras.src.callbacks.history.History at 0x22918360690>"
      ]
     },
     "execution_count": 76,
     "metadata": {},
     "output_type": "execute_result"
    }
   ],
   "source": [
    "model.fit(X_train, y_train_one_hot, batch_size=best_params['batch_size'], epochs=best_params['epochs'], verbose=2)"
   ]
  },
  {
   "cell_type": "code",
   "execution_count": 77,
   "id": "1a2f5cfc",
   "metadata": {},
   "outputs": [],
   "source": [
    "def confusion_matrix(y_true, y_pred, stations):\n",
    "    # Check if y_true and y_pred are one-hot encoded or already class indices\n",
    "    if y_true.ndim == 1:\n",
    "        y_true_labels = y_true\n",
    "    else:\n",
    "        y_true_labels = np.argmax(y_true, axis=1)\n",
    "    \n",
    "    if y_pred.ndim == 1:\n",
    "        y_pred_labels = y_pred\n",
    "    else:\n",
    "        y_pred_labels = np.argmax(y_pred, axis=1)\n",
    "        \n",
    "    # Map numeric labels to activity names\n",
    "    y_true_series = pd.Series([stations[y] for y in y_true_labels])\n",
    "    y_pred_series = pd.Series([stations[y] for y in y_pred_labels])\n",
    "    \n",
    "    return pd.crosstab(y_true_series, y_pred_series, rownames=['True'], colnames=['Pred'])"
   ]
  },
  {
   "cell_type": "code",
   "execution_count": 78,
   "id": "5e3c214c",
   "metadata": {},
   "outputs": [
    {
     "name": "stdout",
     "output_type": "stream",
     "text": [
      "\u001b[1m144/144\u001b[0m \u001b[32m━━━━━━━━━━━━━━━━━━━━\u001b[0m\u001b[37m\u001b[0m \u001b[1m0s\u001b[0m 1ms/step\n"
     ]
    }
   ],
   "source": [
    "# Run model to predict\n",
    "y_pred = model.predict(X_test)"
   ]
  },
  {
   "cell_type": "code",
   "execution_count": 79,
   "id": "53285f72",
   "metadata": {},
   "outputs": [
    {
     "name": "stdout",
     "output_type": "stream",
     "text": [
      "Pred        BASEL  BELGRADE  BUDAPEST  DEBILT  DUSSELDORF  HEATHROW  KASSEL  \\\n",
      "True                                                                          \n",
      "BASEL        2932        10         3       0           0         0       0   \n",
      "BELGRADE      136       694        15       7           3        10       1   \n",
      "BUDAPEST       24         4       110       3           2         7       0   \n",
      "DEBILT          9         0         2      51           1         1       0   \n",
      "DUSSELDORF     11         0         0       6          12         5       0   \n",
      "HEATHROW        6         0         0       2           2        74       1   \n",
      "KASSEL          2         0         0       0           0         1       7   \n",
      "LJUBLJANA       4         1         2       0           0         3       0   \n",
      "MAASTRICHT      2         0         0       0           2         0       0   \n",
      "MADRID         29         2         1       2           2         9       0   \n",
      "MUNCHENB        1         0         0       0           0         0       1   \n",
      "OSLO            0         0         0       0           0         0       0   \n",
      "STOCKHOLM       1         0         0       0           0         0       0   \n",
      "VALENTIA        2         0         0       0           0         0       0   \n",
      "\n",
      "Pred        LJUBLJANA  MAASTRICHT  MADRID  MUNCHENB  OSLO  STOCKHOLM  \n",
      "True                                                                  \n",
      "BASEL               0           0      11         3     0          0  \n",
      "BELGRADE            0           0       7         0     1          0  \n",
      "BUDAPEST            0           0       2         0     0          0  \n",
      "DEBILT              0           1       0         0     0          0  \n",
      "DUSSELDORF          0           0       0         0     0          0  \n",
      "HEATHROW            0           0       1         0     0          0  \n",
      "KASSEL              0           0       0         1     0          0  \n",
      "LJUBLJANA          37           0       1         0     0          0  \n",
      "MAASTRICHT          0           3       0         0     0          0  \n",
      "MADRID              1           0     290         1     3          0  \n",
      "MUNCHENB            0           0       0         4     0          0  \n",
      "OSLO                1           0       0         0     3          0  \n",
      "STOCKHOLM           0           0       0         0     0          1  \n",
      "VALENTIA            0           0       0         0     0          0  \n"
     ]
    }
   ],
   "source": [
    "cm = confusion_matrix(y_test, y_pred, stations)\n",
    "print(cm)"
   ]
  },
  {
   "cell_type": "code",
   "execution_count": null,
   "id": "94ec7f20",
   "metadata": {},
   "outputs": [],
   "source": []
  }
 ],
 "metadata": {
  "kernelspec": {
   "display_name": "Python 3 (ipykernel)",
   "language": "python",
   "name": "python3"
  },
  "language_info": {
   "codemirror_mode": {
    "name": "ipython",
    "version": 3
   },
   "file_extension": ".py",
   "mimetype": "text/x-python",
   "name": "python",
   "nbconvert_exporter": "python",
   "pygments_lexer": "ipython3",
   "version": "3.11.7"
  }
 },
 "nbformat": 4,
 "nbformat_minor": 5
}
